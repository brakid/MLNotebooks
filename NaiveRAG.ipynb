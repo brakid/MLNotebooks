{
 "cells": [
  {
   "cell_type": "code",
   "execution_count": null,
   "id": "0cb81c4c",
   "metadata": {},
   "outputs": [],
   "source": [
    "!python3.11 -m pip install langchain faiss-cpu langchain-openai pandas"
   ]
  },
  {
   "cell_type": "code",
   "execution_count": null,
   "id": "9084c2aa",
   "metadata": {},
   "outputs": [],
   "source": [
    "import pandas as pd\n",
    "\n",
    "reports = pd.read_csv('./reports.tsv', sep='\\t')[['quarter', 'report']]\n",
    "reports"
   ]
  },
  {
   "cell_type": "code",
   "execution_count": null,
   "id": "b01e56d6",
   "metadata": {},
   "outputs": [],
   "source": [
    "from langchain.docstore.document import Document\n",
    "\n",
    "documents = [ Document(page_content=report[2].strip(), metadata={'quarter': report[1]}) for report in reports.itertuples() ]\n",
    "documents"
   ]
  },
  {
   "cell_type": "code",
   "execution_count": null,
   "id": "fc00b396",
   "metadata": {},
   "outputs": [],
   "source": [
    "from langchain.text_splitter import CharacterTextSplitter\n",
    "\n",
    "text_splitter = CharacterTextSplitter(separator='. ', chunk_size=500, chunk_overlap=50, is_separator_regex=False)\n",
    "\n",
    "split_documents = text_splitter.split_documents(documents)\n",
    "split_documents"
   ]
  },
  {
   "cell_type": "code",
   "execution_count": null,
   "id": "a8dbe997",
   "metadata": {},
   "outputs": [],
   "source": [
    "from langchain.embeddings import HuggingFaceEmbeddings\n",
    "from langchain.vectorstores import FAISS\n",
    "\n",
    "embeddings = HuggingFaceEmbeddings(model_name='sentence-transformers/all-MiniLM-l6-v2')\n",
    "db = FAISS.from_documents(split_documents, embeddings)"
   ]
  },
  {
   "cell_type": "code",
   "execution_count": null,
   "id": "c0a83c64",
   "metadata": {},
   "outputs": [],
   "source": [
    "question = 'What is the return on investment in Q4 2023'\n",
    "docs = db.similarity_search_with_score(question)\n",
    "\n",
    "docs"
   ]
  },
  {
   "cell_type": "code",
   "execution_count": null,
   "id": "991d1032",
   "metadata": {},
   "outputs": [],
   "source": [
    "prompt = f'Context: { \"; \".join([ doc[0].page_content for doc in docs ]) }, Question: {question}. Answer the phrased question using exclusively the provided information in the context.'\n",
    "prompt"
   ]
  },
  {
   "cell_type": "code",
   "execution_count": null,
   "id": "a24d434d",
   "metadata": {},
   "outputs": [],
   "source": [
    "key = '...'\n",
    "from langchain_openai import ChatOpenAI\n",
    "\n",
    "llm = ChatOpenAI(openai_api_key=key, model_name='gpt-3.5-turbo')"
   ]
  },
  {
   "cell_type": "code",
   "execution_count": null,
   "id": "79846762",
   "metadata": {},
   "outputs": [],
   "source": [
    "llm.invoke(prompt)"
   ]
  }
 ],
 "metadata": {
  "kernelspec": {
   "display_name": "Python 3",
   "language": "python",
   "name": "python3"
  },
  "language_info": {
   "codemirror_mode": {
    "name": "ipython",
    "version": 3
   },
   "file_extension": ".py",
   "mimetype": "text/x-python",
   "name": "python",
   "nbconvert_exporter": "python",
   "pygments_lexer": "ipython3",
   "version": "3.11.7"
  }
 },
 "nbformat": 4,
 "nbformat_minor": 5
}
