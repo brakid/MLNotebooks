{
 "cells": [
  {
   "cell_type": "code",
   "execution_count": 1,
   "metadata": {},
   "outputs": [],
   "source": [
    "from PIL import Image, ImageDraw\n",
    "import matplotlib.pyplot as plt\n",
    "import numpy as np\n",
    "import os\n",
    "%matplotlib inline\n",
    "\n",
    "IMAGE_SIZE = (50, 50)\n",
    "\n",
    "colors = ['blue', 'red', 'green']\n",
    "color_map = {\n",
    "    'blue': '#0000FF',\n",
    "    'red': '#FF0000',\n",
    "    'green': '#00FF00'\n",
    "}\n",
    "shapes = ['square', 'circle', 'triangle']\n",
    "\n",
    "def get_dimensions():\n",
    "    width, height = IMAGE_SIZE\n",
    "    size = np.random.randint(10, width / 2)\n",
    "    left = np.random.randint(0, width - size)\n",
    "    top = np.random.randint(0, height - size)\n",
    "    \n",
    "    return left, top, size\n",
    "\n",
    "def draw_shape(img, color, shape):\n",
    "    idraw = ImageDraw.Draw(img)\n",
    "    left, top, size = get_dimensions()\n",
    "    if shape is 'square':\n",
    "        idraw.rectangle((left, top, left+size, top+size), fill=color_map[color])\n",
    "    elif shape is 'circle':\n",
    "        idraw.ellipse((left, top, left+size, top+size), fill=color_map[color])\n",
    "    elif shape is 'triangle':\n",
    "        idraw.polygon([(left, top+size), (left+size, top+size), (left+size/2, top)], fill=color_map[color])\n",
    "    \n",
    "def generate_shape_color_binary_questions(color, shape):\n",
    "    questions = []\n",
    "    for color2 in colors:\n",
    "        for shape2 in shapes:\n",
    "            questions.append((color, shape, 'Does the image contain a {} {}?'.format(color2, shape2), 'Yes' if color == color2 and shape == shape2 else 'No'))\n",
    "            questions.append((color, shape, 'Is there a {} {}?'.format(color2, shape2), 'Yes' if color == color2 and shape == shape2 else 'No'))\n",
    "    \n",
    "    return questions\n",
    "\n",
    "def generate_shape_binary_questions(color, shape):\n",
    "    questions = []\n",
    "    for shape2 in shapes:\n",
    "        questions.append((color, shape, 'Does the image contain a {}?'.format(shape2), 'Yes' if shape == shape2 else 'No'))\n",
    "        questions.append((color, shape, 'Is there a {}?'.format(shape2), 'Yes' if shape == shape2 else 'No'))\n",
    "    \n",
    "    return questions\n",
    "\n",
    "def generate_color_binary_questions(color, shape):\n",
    "    questions = []\n",
    "    for color2 in colors:\n",
    "        questions.append((color, shape, 'Does the image contain a {} shape?'.format(color2), 'Yes' if color == color2 else 'No'))\n",
    "        questions.append((color, shape, 'Is there a {} shape?'.format(color2), 'Yes' if color == color2 else 'No'))\n",
    "    \n",
    "    return questions\n",
    "\n",
    "def generate_shape_question(color, shape):\n",
    "    return [\n",
    "        (color, shape, 'Which color is in the image?', color)\n",
    "    ]\n",
    "\n",
    "def generate_color_question(color, shape):\n",
    "    return [\n",
    "        (color, shape, 'Which shape is in the image?', shape)\n",
    "    ]\n",
    "    \n",
    "def generate_question_answer_pairs(color, shape):\n",
    "    questions = []\n",
    "    questions.extend(generate_shape_color_binary_questions(color, shape))\n",
    "    questions.extend(generate_shape_binary_questions(color, shape))\n",
    "    questions.extend(generate_color_binary_questions(color, shape))\n",
    "    questions.extend(generate_shape_question(color, shape))\n",
    "    questions.extend(generate_color_question(color, shape))\n",
    "    \n",
    "    return questions\n",
    "\n",
    "questions = []\n",
    "for shape in shapes:\n",
    "    for color in colors:\n",
    "        questions.extend(generate_question_answer_pairs(color, shape))\n",
    "        for index in range(10):\n",
    "            if not os.path.isdir('./data/{}/{}'.format(color, shape)):\n",
    "                os.makedirs('./data/{}/{}'.format(color, shape))\n",
    "            img = Image.new('RGB', IMAGE_SIZE, 'white') \n",
    "            draw_shape(img, color, shape)\n",
    "            #img = img.rotate(45)\n",
    "            img.save('./data/{}/{}/{}_{}_{}'.format(color, shape, color, shape, index) + \".jpg\", \"JPEG\")\n",
    "            #plt.imshow(img)\n",
    "            #plt.show()\n",
    "\n",
    "f = open('./data/questions.txt', 'w+')\n",
    "for color, shape, question, answer in questions:\n",
    "     f.write('{},{},{},{}\\n'.format(color, shape, question, answer))\n",
    "f.close()"
   ]
  },
  {
   "cell_type": "code",
   "execution_count": 2,
   "metadata": {},
   "outputs": [
    {
     "name": "stdout",
     "output_type": "stream",
     "text": [
      "0.21568627450980393\n",
      "0.5450980392156862\n",
      "0.06274509803921569\n"
     ]
    }
   ],
   "source": [
    "import glob\n",
    "import pandas as pd\n",
    "from PIL import Image, ImageDraw\n",
    "import matplotlib.pyplot as plt\n",
    "import numpy as np\n",
    "%matplotlib inline\n",
    "\n",
    "def normalize_image(image):\n",
    "    return image / 255\n",
    "\n",
    "def load_images(color, shape):\n",
    "    return [normalize_image(np.array(Image.open(path).convert('L'))) for path in glob.glob('./data/{}/{}/*.jpg'.format(color, shape))]\n",
    "\n",
    "def load_questions(color, shape):\n",
    "    data = pd.read_csv('./data/questions.txt', names=['color', 'shape', 'question', 'answer'])\n",
    "\n",
    "    return data[(data['color'] == color) & (data['shape'] == shape)][['question', 'answer']].values\n",
    "    \n",
    "def load_images_and_question(color, shape):\n",
    "    images = load_images(color, shape)\n",
    "    questions = load_questions(color, shape)\n",
    "    \n",
    "    return [(image, question, answer) for image in images for (question, answer) in questions]\n",
    "\n",
    "\n",
    "#for (image, question, answer) in load_images_and_question('green', 'square'):\n",
    "#    plt.imshow(image)\n",
    "#    plt.show()\n",
    "#    print(image.shape, question, answer)\n",
    "\n",
    "print(np.min(load_images_and_question('red', 'square')[0][0]))\n",
    "print(np.min(load_images_and_question('green', 'square')[0][0]))\n",
    "print(np.min(load_images_and_question('blue', 'square')[0][0]))"
   ]
  },
  {
   "cell_type": "code",
   "execution_count": 3,
   "metadata": {},
   "outputs": [
    {
     "name": "stdout",
     "output_type": "stream",
     "text": [
      "                                               image  \\\n",
      "0  [[1.0, 1.0, 1.0, 1.0, 1.0, 1.0, 1.0, 1.0, 1.0,...   \n",
      "1  [[1.0, 1.0, 1.0, 1.0, 1.0, 1.0, 1.0, 1.0, 1.0,...   \n",
      "2  [[1.0, 1.0, 1.0, 1.0, 1.0, 1.0, 1.0, 1.0, 1.0,...   \n",
      "3  [[1.0, 1.0, 1.0, 1.0, 1.0, 1.0, 1.0, 1.0, 1.0,...   \n",
      "4  [[1.0, 1.0, 1.0, 1.0, 1.0, 1.0, 1.0, 1.0, 1.0,...   \n",
      "\n",
      "                                  question answer  \\\n",
      "0    Does the image contain a blue square?    Yes   \n",
      "1                  Is there a blue square?    Yes   \n",
      "2    Does the image contain a blue circle?     No   \n",
      "3                  Is there a blue circle?     No   \n",
      "4  Does the image contain a blue triangle?     No   \n",
      "\n",
      "                         cleaned_question cleaned_answer  \\\n",
      "0    does the image contain a blue square            yes   \n",
      "1                  is there a blue square            yes   \n",
      "2    does the image contain a blue circle             no   \n",
      "3                  is there a blue circle             no   \n",
      "4  does the image contain a blue triangle             no   \n",
      "\n",
      "                               transformed_question        transformed_answer  \n",
      "0  [1, 0, 0, 1, 1, 0, 1, 0, 0, 0, 0, 1, 1, 0, 0, 0]  [0, 0, 0, 0, 0, 0, 0, 1]  \n",
      "1  [1, 0, 0, 0, 0, 0, 0, 0, 1, 0, 0, 1, 0, 1, 0, 0]  [0, 0, 0, 0, 0, 0, 0, 1]  \n",
      "2  [1, 1, 0, 1, 1, 0, 1, 0, 0, 0, 0, 0, 1, 0, 0, 0]  [0, 0, 0, 1, 0, 0, 0, 0]  \n",
      "3  [1, 1, 0, 0, 0, 0, 0, 0, 1, 0, 0, 0, 0, 1, 0, 0]  [0, 0, 0, 1, 0, 0, 0, 0]  \n",
      "4  [1, 0, 0, 1, 1, 0, 1, 0, 0, 0, 0, 0, 1, 0, 1, 0]  [0, 0, 0, 1, 0, 0, 0, 0]  \n"
     ]
    }
   ],
   "source": [
    "import re\n",
    "import pandas as pd\n",
    "from sklearn.feature_extraction.text import CountVectorizer\n",
    "\n",
    "def load_all_data():\n",
    "    images_and_questions = []\n",
    "    for color in colors:\n",
    "        for shape in shapes:\n",
    "            images_and_questions += load_images_and_question(color, shape)\n",
    "            \n",
    "    return pd.DataFrame(np.array(images_and_questions), columns=['image', 'question', 'answer'])\n",
    "\n",
    "def clean_sentence(sentence):\n",
    "    lowercase_sentence = sentence.lower()\n",
    "    return re.sub('[?,.\\-!:;]', '', lowercase_sentence)\n",
    "    \n",
    "data = load_all_data()\n",
    "\n",
    "data['cleaned_question'] = data['question'].apply(lambda s : clean_sentence(s))\n",
    "data['cleaned_answer'] = data['answer'].apply(lambda s : clean_sentence(s))\n",
    "\n",
    "question_vectorizer = CountVectorizer(analyzer='word', lowercase=True, binary=True)\n",
    "data['transformed_question'] = [vector.toarray()[0] for vector in question_vectorizer.fit_transform(data['cleaned_question'].values)]\n",
    "answer_vectorizer = CountVectorizer(analyzer='word', lowercase=True, binary=True)\n",
    "data['transformed_answer'] = [vector.toarray()[0] for vector in answer_vectorizer.fit_transform(data['cleaned_answer'].values)]\n",
    "\n",
    "print(data.head())"
   ]
  },
  {
   "cell_type": "code",
   "execution_count": 4,
   "metadata": {},
   "outputs": [
    {
     "name": "stdout",
     "output_type": "stream",
     "text": [
      "Number of words: 16, vocabulary: {'does': 4, 'the': 12, 'image': 6, 'contain': 3, 'blue': 0, 'square': 11, 'is': 8, 'there': 13, 'circle': 1, 'triangle': 14, 'red': 9, 'green': 5, 'shape': 10, 'which': 15, 'color': 2, 'in': 7}\n",
      "[1530 1530 1530 1350 1350 1350  720  720  720  720  720  720  630  180\n",
      "  180   90]\n"
     ]
    },
    {
     "data": {
      "image/png": "[encoded data removed]",
      "text/plain": [
       "<Figure size 432x288 with 1 Axes>"
      ]
     },
     "metadata": {
      "needs_background": "light"
     },
     "output_type": "display_data"
    },
    {
     "name": "stdout",
     "output_type": "stream",
     "text": [
      "[[1530, 'the'], [1530, 'image'], [1530, 'is'], [1350, 'does'], [1350, 'contain'], [1350, 'there'], [720, 'blue'], [720, 'square'], [720, 'circle'], [720, 'triangle'], [720, 'red'], [720, 'green'], [630, 'shape'], [180, 'which'], [180, 'in'], [90, 'color']]\n"
     ]
    },
    {
     "data": {
      "image/png": "[encoded data removed]",
      "text/plain": [
       "<Figure size 432x288 with 1 Axes>"
      ]
     },
     "metadata": {
      "needs_background": "light"
     },
     "output_type": "display_data"
    }
   ],
   "source": [
    "import matplotlib.pyplot as plt\n",
    "\n",
    "concatenated_questions = ' '.join(data['cleaned_question'])\n",
    "question_vectorizer_2 = CountVectorizer(analyzer='word', lowercase=True)\n",
    "vector = question_vectorizer_2.fit_transform([concatenated_questions]).toarray()[0]\n",
    "sorted_vector = np.sort(vector)[::-1]\n",
    "print('Number of words: {}, vocabulary: {}'.format(len(question_vectorizer_2.vocabulary_), question_vectorizer_2.vocabulary_))\n",
    "print(sorted_vector)\n",
    "\n",
    "plt.bar(range(len(sorted_vector)), sorted_vector)\n",
    "plt.show()\n",
    "\n",
    "vector_dictionary = [[vector[index], word] for (word, index) in question_vectorizer_2.vocabulary_.items()]\n",
    "vector_dictionary.sort(key=lambda x : x[0], reverse=True)\n",
    "print(vector_dictionary)\n",
    "counts = [count for [count, _] in vector_dictionary]\n",
    "words = [word for [_, word] in vector_dictionary]\n",
    "plt.bar(words, counts)\n",
    "plt.show()"
   ]
  },
  {
   "cell_type": "code",
   "execution_count": 5,
   "metadata": {},
   "outputs": [
    {
     "name": "stdout",
     "output_type": "stream",
     "text": [
      "Number of words: 8, vocabulary: {'yes': 7, 'no': 3, 'blue': 0, 'square': 5, 'circle': 1, 'triangle': 6, 'red': 4, 'green': 2}\n"
     ]
    }
   ],
   "source": [
    "print('Number of words: {}, vocabulary: {}'.format(len(answer_vectorizer.vocabulary_), answer_vectorizer.vocabulary_))"
   ]
  },
  {
   "cell_type": "code",
   "execution_count": 6,
   "metadata": {},
   "outputs": [
    {
     "name": "stdout",
     "output_type": "stream",
     "text": [
      "Model: \"model\"\n",
      "__________________________________________________________________________________________________\n",
      "Layer (type)                    Output Shape         Param #     Connected to                     \n",
      "==================================================================================================\n",
      "input_1 (InputLayer)            [(None, 50, 50, 1)]  0                                            \n",
      "__________________________________________________________________________________________________\n",
      "input_2 (InputLayer)            [(None, 16)]         0                                            \n",
      "__________________________________________________________________________________________________\n",
      "sequential (Sequential)         (None, 32)           37232       input_1[0][0]                    \n",
      "__________________________________________________________________________________________________\n",
      "sequential_1 (Sequential)       (None, 8)            308         input_2[0][0]                    \n",
      "__________________________________________________________________________________________________\n",
      "concatenate (Concatenate)       (None, 40)           0           sequential[1][0]                 \n",
      "                                                                 sequential_1[1][0]               \n",
      "__________________________________________________________________________________________________\n",
      "dense_3 (Dense)                 (None, 12)           492         concatenate[0][0]                \n",
      "__________________________________________________________________________________________________\n",
      "dropout_2 (Dropout)             (None, 12)           0           dense_3[0][0]                    \n",
      "__________________________________________________________________________________________________\n",
      "dense_4 (Dense)                 (None, 8)            104         dropout_2[0][0]                  \n",
      "==================================================================================================\n",
      "Total params: 38,136\n",
      "Trainable params: 38,136\n",
      "Non-trainable params: 0\n",
      "__________________________________________________________________________________________________\n"
     ]
    }
   ],
   "source": [
    "import tensorflow as tf\n",
    "from tensorflow.keras.optimizers import Adam\n",
    "from tensorflow.keras.models import Sequential, Model\n",
    "from tensorflow.keras.layers import Flatten, Dense, Dropout, Input, concatenate\n",
    "from tensorflow.keras.layers import Dense, Dropout, Flatten, Conv2D, MaxPooling2D\n",
    "\n",
    "def adam_optimizer():\n",
    "    return Adam(lr = 0.001, beta_1 = 0.5)\n",
    "\n",
    "def get_image_cnn():\n",
    "    model = Sequential()\n",
    "    model.add(Conv2D(4, kernel_size=(3, 3),\n",
    "                     activation='relu',\n",
    "                     input_shape=(IMAGE_SIZE[0], IMAGE_SIZE[1], 1), \n",
    "                     padding='same'))\n",
    "    model.add(MaxPooling2D(pool_size=(2, 2)))\n",
    "    model.add(Conv2D(8, kernel_size=(3, 3), activation='relu', padding='same'))\n",
    "    model.add(MaxPooling2D(pool_size=(2, 2)))\n",
    "    model.add(Flatten())\n",
    "    model.add(Dropout(0.1))\n",
    "    model.add(Dense(32, activation='relu'))\n",
    "    return model\n",
    "\n",
    "def get_question_nn():\n",
    "    model = Sequential()\n",
    "    model.add(Dense(12, input_shape=(16,), activation='relu'))\n",
    "    model.add(Dropout(0.1))\n",
    "    model.add(Dense(8, activation='relu'))\n",
    "    return model\n",
    "\n",
    "def get_model():\n",
    "    image_model = get_image_cnn()\n",
    "    question_model = get_question_nn()\n",
    "    input_image = Input(shape=(IMAGE_SIZE[0], IMAGE_SIZE[1], 1))\n",
    "    input_question = Input(shape=(16,))\n",
    "    \n",
    "    image_result = image_model(input_image)\n",
    "    question_result = question_model(input_question)\n",
    "    result = concatenate([image_result, question_result])\n",
    "    result = Dense(12, activation='relu')(result)\n",
    "    result = Dropout(0.1)(result)\n",
    "    result = Dense(8, activation='softmax')(result)\n",
    "    model = Model(inputs=[input_image, input_question], outputs=result)\n",
    "    model.compile(loss='categorical_crossentropy', optimizer=adam_optimizer(), metrics=['accuracy'])\n",
    "    return model\n",
    "\n",
    "get_model().summary()"
   ]
  },
  {
   "cell_type": "code",
   "execution_count": 7,
   "metadata": {},
   "outputs": [
    {
     "name": "stdout",
     "output_type": "stream",
     "text": [
      "(2592, 50, 50, 1) (2592, 16) (2592, 8)\n",
      "Train on 2592 samples\n",
      "Epoch 1/50\n",
      "2592/2592 [==============================] - 9s 4ms/sample - loss: 0.9000 - accuracy: 0.7488\n",
      "Epoch 2/50\n",
      "2592/2592 [==============================] - 8s 3ms/sample - loss: 0.6127 - accuracy: 0.7674\n",
      "Epoch 3/50\n",
      "2592/2592 [==============================] - 8s 3ms/sample - loss: 0.5815 - accuracy: 0.7658\n",
      "Epoch 4/50\n",
      "2592/2592 [==============================] - 9s 3ms/sample - loss: 0.5634 - accuracy: 0.7681\n",
      "Epoch 5/50\n",
      "2592/2592 [==============================] - 10s 4ms/sample - loss: 0.5654 - accuracy: 0.7666s - loss: 0.566\n",
      "Epoch 6/50\n",
      "2592/2592 [==============================] - 13s 5ms/sample - loss: 0.5601 - accuracy: 0.7681\n",
      "Epoch 7/50\n",
      "2592/2592 [==============================] - 10s 4ms/sample - loss: 0.5570 - accuracy: 0.7677\n",
      "Epoch 8/50\n",
      "2592/2592 [==============================] - 8s 3ms/sample - loss: 0.5479 - accuracy: 0.7720\n",
      "Epoch 9/50\n",
      "2592/2592 [==============================] - 9s 3ms/sample - loss: 0.5378 - accuracy: 0.7735\n",
      "Epoch 10/50\n",
      "2592/2592 [==============================] - 11s 4ms/sample - loss: 0.5287 - accuracy: 0.7770\n",
      "Epoch 11/50\n",
      "2592/2592 [==============================] - 15s 6ms/sample - loss: 0.5234 - accuracy: 0.7747\n",
      "Epoch 12/50\n",
      "2592/2592 [==============================] - 14s 6ms/sample - loss: 0.5077 - accuracy: 0.7785\n",
      "Epoch 13/50\n",
      "2592/2592 [==============================] - 14s 5ms/sample - loss: 0.5026 - accuracy: 0.7805\n",
      "Epoch 14/50\n",
      "2592/2592 [==============================] - 15s 6ms/sample - loss: 0.4825 - accuracy: 0.7909\n",
      "Epoch 15/50\n",
      "2592/2592 [==============================] - 11s 4ms/sample - loss: 0.4600 - accuracy: 0.7901\n",
      "Epoch 16/50\n",
      "2592/2592 [==============================] - 11s 4ms/sample - loss: 0.4258 - accuracy: 0.8029\n",
      "Epoch 17/50\n",
      "2592/2592 [==============================] - 9s 3ms/sample - loss: 0.4039 - accuracy: 0.8125\n",
      "Epoch 18/50\n",
      "2592/2592 [==============================] - 8s 3ms/sample - loss: 0.4055 - accuracy: 0.8140\n",
      "Epoch 19/50\n",
      "2592/2592 [==============================] - 9s 3ms/sample - loss: 0.3837 - accuracy: 0.8167\n",
      "Epoch 20/50\n",
      "2592/2592 [==============================] - 12s 5ms/sample - loss: 0.3766 - accuracy: 0.8214\n",
      "Epoch 21/50\n",
      "2592/2592 [==============================] - 8s 3ms/sample - loss: 0.3676 - accuracy: 0.8245\n",
      "Epoch 22/50\n",
      "2592/2592 [==============================] - 8s 3ms/sample - loss: 0.3737 - accuracy: 0.8179\n",
      "Epoch 23/50\n",
      "2592/2592 [==============================] - 9s 3ms/sample - loss: 0.3604 - accuracy: 0.8268\n",
      "Epoch 24/50\n",
      "2592/2592 [==============================] - 11s 4ms/sample - loss: 0.3493 - accuracy: 0.8248\n",
      "Epoch 25/50\n",
      "2592/2592 [==============================] - 9s 4ms/sample - loss: 0.3525 - accuracy: 0.8198\n",
      "Epoch 26/50\n",
      "2592/2592 [==============================] - 9s 3ms/sample - loss: 0.3349 - accuracy: 0.8275\n",
      "Epoch 27/50\n",
      "2592/2592 [==============================] - 11s 4ms/sample - loss: 0.3309 - accuracy: 0.8329\n",
      "Epoch 28/50\n",
      "2592/2592 [==============================] - 10s 4ms/sample - loss: 0.3107 - accuracy: 0.8364\n",
      "Epoch 29/50\n",
      "2592/2592 [==============================] - 9s 3ms/sample - loss: 0.3112 - accuracy: 0.8461\n",
      "Epoch 30/50\n",
      "2592/2592 [==============================] - 10s 4ms/sample - loss: 0.2929 - accuracy: 0.8438\n",
      "Epoch 31/50\n",
      "2592/2592 [==============================] - 12s 5ms/sample - loss: 0.2801 - accuracy: 0.8480\n",
      "Epoch 32/50\n",
      "2592/2592 [==============================] - 12s 5ms/sample - loss: 0.2847 - accuracy: 0.8476s - loss: 0.2867 \n",
      "Epoch 33/50\n",
      "2592/2592 [==============================] - 12s 5ms/sample - loss: 0.2757 - accuracy: 0.8603\n",
      "Epoch 34/50\n",
      "2592/2592 [==============================] - 9s 3ms/sample - loss: 0.2675 - accuracy: 0.8619\n",
      "Epoch 35/50\n",
      "2592/2592 [==============================] - 9s 3ms/sample - loss: 0.2632 - accuracy: 0.8642\n",
      "Epoch 36/50\n",
      "2592/2592 [==============================] - 8s 3ms/sample - loss: 0.2608 - accuracy: 0.8704\n",
      "Epoch 37/50\n",
      "2592/2592 [==============================] - 11s 4ms/sample - loss: 0.2535 - accuracy: 0.8742\n",
      "Epoch 38/50\n",
      "2592/2592 [==============================] - 9s 4ms/sample - loss: 0.2408 - accuracy: 0.8742\n",
      "Epoch 39/50\n",
      "2592/2592 [==============================] - 9s 3ms/sample - loss: 0.2353 - accuracy: 0.8789\n",
      "Epoch 40/50\n",
      "2592/2592 [==============================] - 10s 4ms/sample - loss: 0.2513 - accuracy: 0.8777\n",
      "Epoch 41/50\n",
      "2592/2592 [==============================] - 10s 4ms/sample - loss: 0.2279 - accuracy: 0.8835\n",
      "Epoch 42/50\n",
      "2592/2592 [==============================] - 9s 3ms/sample - loss: 0.2278 - accuracy: 0.8846\n",
      "Epoch 43/50\n",
      "2592/2592 [==============================] - 8s 3ms/sample - loss: 0.2158 - accuracy: 0.8935\n",
      "Epoch 44/50\n",
      "2592/2592 [==============================] - 12s 5ms/sample - loss: 0.2227 - accuracy: 0.8885\n",
      "Epoch 45/50\n",
      "2592/2592 [==============================] - 10s 4ms/sample - loss: 0.2258 - accuracy: 0.8839\n",
      "Epoch 46/50\n",
      "2592/2592 [==============================] - 11s 4ms/sample - loss: 0.2236 - accuracy: 0.8858\n",
      "Epoch 47/50\n",
      "2592/2592 [==============================] - 13s 5ms/sample - loss: 0.2217 - accuracy: 0.8893\n",
      "Epoch 48/50\n",
      "2592/2592 [==============================] - 12s 5ms/sample - loss: 0.2094 - accuracy: 0.8920\n",
      "Epoch 49/50\n",
      "2592/2592 [==============================] - 13s 5ms/sample - loss: 0.2137 - accuracy: 0.8981\n",
      "Epoch 50/50\n",
      "2592/2592 [==============================] - 12s 5ms/sample - loss: 0.2075 - accuracy: 0.8916\n",
      "288/288 - 0s - loss: 0.1834 - accuracy: 0.9132\n"
     ]
    },
    {
     "data": {
      "image/png": "[encoded data removed]",
      "text/plain": [
       "<Figure size 432x288 with 1 Axes>"
      ]
     },
     "metadata": {
      "needs_background": "light"
     },
     "output_type": "display_data"
    }
   ],
   "source": [
    "from sklearn.model_selection import train_test_split\n",
    "\n",
    "# data_filtered = data[(data['answer'] == 'circle') | (data['answer'] == 'square') | (data['answer'] == 'triangle')]\n",
    "# data_filtered = data[(data['answer'] == 'red') | (data['answer'] == 'green') | (data['answer'] == 'blue')]\n",
    "# data_filtered = data[(data['answer'] == 'red') | (data['answer'] == 'green') | (data['answer'] == 'blue') | (data['answer'] == 'circle') | (data['answer'] == 'square') | (data['answer'] == 'triangle')]\n",
    "data_filtered = data\n",
    "\n",
    "images, questions, answers = data_filtered['image'].values, data_filtered['transformed_question'].values, data_filtered['transformed_answer'].values\n",
    "images = np.array([image.reshape(IMAGE_SIZE[0], IMAGE_SIZE[1], 1) for image in images])\n",
    "questions = np.array([question.reshape(16) for question in questions])\n",
    "answers = np.array([answer.reshape(8) for answer in answers])\n",
    "\n",
    "train_images, test_images, train_questions, test_questions, train_answers, test_answers = train_test_split(images, questions, answers, test_size=0.1, random_state=42)\n",
    "\n",
    "print(train_images.shape, train_questions.shape, train_answers.shape)\n",
    "\n",
    "model = get_model()\n",
    "\n",
    "history = model.fit([train_images, train_questions], train_answers, epochs=50, batch_size=4)\n",
    "\n",
    "model.evaluate([test_images, test_questions], test_answers, verbose=2)\n",
    "\n",
    "plt.plot(history.history['accuracy'])\n",
    "plt.plot(history.history['loss'])\n",
    "plt.title('Model accuracy')\n",
    "plt.ylabel('Accuracy/Loss')\n",
    "plt.xlabel('Epoch')\n",
    "plt.legend(['Accuracy', 'Loss'], loc='upper left')\n",
    "plt.show()"
   ]
  },
  {
   "cell_type": "code",
   "execution_count": 8,
   "metadata": {},
   "outputs": [
    {
     "name": "stdout",
     "output_type": "stream",
     "text": [
      "Confusion matrix\n"
     ]
    },
    {
     "data": {
      "image/png": "[encoded data removed]",
      "text/plain": [
       "<Figure size 432x288 with 2 Axes>"
      ]
     },
     "metadata": {
      "needs_background": "light"
     },
     "output_type": "display_data"
    },
    {
     "name": "stdout",
     "output_type": "stream",
     "text": [
      "Precision: 0.9199689089881289\n",
      "Recall: 0.8977272727272727\n",
      "f1_score: 0.8806223072351804\n"
     ]
    }
   ],
   "source": [
    "import seaborn as sn\n",
    "from sklearn.metrics import precision_score, recall_score, f1_score\n",
    "\n",
    "y_pred = np.argmax(model.predict([test_images, test_questions]), axis=1)\n",
    "y_test = np.argmax(test_answers, axis=1)\n",
    "\n",
    "print('Confusion matrix')\n",
    "matrix = tf.math.confusion_matrix(y_test, y_pred).numpy()\n",
    "row_sums = np.sum(matrix, axis=1)\n",
    "matrix = np.around(matrix / row_sums[:,None], decimals=3)\n",
    "sn.heatmap(matrix, annot=True)\n",
    "plt.show()\n",
    "print('Precision:', precision_score(y_test, y_pred, average='macro'))\n",
    "print('Recall:', recall_score(y_test, y_pred, average='macro'))\n",
    "print('f1_score:', f1_score(y_test, y_pred, average='macro'))"
   ]
  },
  {
   "cell_type": "code",
   "execution_count": 9,
   "metadata": {},
   "outputs": [
    {
     "name": "stdout",
     "output_type": "stream",
     "text": [
      "Image:\n"
     ]
    },
    {
     "data": {
      "image/png": "[encoded data removed]",
      "text/plain": [
       "<Figure size 432x288 with 1 Axes>"
      ]
     },
     "metadata": {
      "needs_background": "light"
     },
     "output_type": "display_data"
    },
    {
     "name": "stdout",
     "output_type": "stream",
     "text": [
      "Encoded question: [0 0 0 0 0 0 0 0 1 0 0 0 0 1 1 0]\n",
      "Correct answer: 3\n",
      "WARNING:tensorflow:Your input ran out of data; interrupting training. Make sure that your dataset or generator can generate at least `steps_per_epoch * epochs` batches (in this case, 2 batches). You may need to use the repeat() function when building your dataset.\n",
      "Predicted answer: 3\n"
     ]
    }
   ],
   "source": [
    "print('Image:')\n",
    "plt.imshow(test_images[0].reshape(IMAGE_SIZE))\n",
    "plt.show()\n",
    "print('Encoded question:', test_questions[0])\n",
    "print('Correct answer:', np.argmax(test_answers[0]))\n",
    "print('Predicted answer:', np.argmax(model.predict([[test_images[0]], [test_questions[0]]]), axis=1)[0])"
   ]
  },
  {
   "cell_type": "code",
   "execution_count": 10,
   "metadata": {},
   "outputs": [
    {
     "name": "stdout",
     "output_type": "stream",
     "text": [
      "Test label distribution\n"
     ]
    },
    {
     "data": {
      "image/png": "[encoded data removed]",
      "text/plain": [
       "<Figure size 432x288 with 1 Axes>"
      ]
     },
     "metadata": {
      "needs_background": "light"
     },
     "output_type": "display_data"
    }
   ],
   "source": [
    "print('Test label distribution')\n",
    "plt.hist(y_test, bins=8)\n",
    "plt.show()"
   ]
  }
 ],
 "metadata": {
  "kernelspec": {
   "display_name": "Python 3",
   "language": "python",
   "name": "python3"
  },
  "language_info": {
   "codemirror_mode": {
    "name": "ipython",
    "version": 3
   },
   "file_extension": ".py",
   "mimetype": "text/x-python",
   "name": "python",
   "nbconvert_exporter": "python",
   "pygments_lexer": "ipython3",
   "version": "3.7.5"
  }
 },
 "nbformat": 4,
 "nbformat_minor": 2
}
