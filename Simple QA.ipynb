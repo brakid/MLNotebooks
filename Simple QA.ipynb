{
 "cells": [
  {
   "cell_type": "markdown",
   "metadata": {},
   "source": [
    "## Simple QA system\n",
    "\n",
    "Goal is to implement a simple ML-based model that receives a question and an image and should answer the question based on the content of the image. Real-life applications for such a system could include asking an agent where to find an object in an image.\n",
    "\n",
    "As this task is quite complex (the number of objects and questions is almost limitless), we simplify this task quite a bit: the model will have to answer questions for 3 different colors and 3 different shapes. This limits the complexity quite significantly, but nevertheless will serve as a good playground for experimenting with Deep Learning.\n",
    "\n",
    "The shapes in the images will have different sizes and placements to force the system to learn the shapes at different sizes. The background of the images will be white to ease the task such that the system will not have to learn object detection with noisy backgrounds. A task like that would require a way larger set of training images (see [ImageNet challenge](http://www.image-net.org/challenges/LSVRC/), which has over 1M classified images).\n",
    "The questions and answers expected from the system are rather simple as well.\n",
    "\n",
    "The questions all follow a common patterns:\n",
    "* Does the image contain a ```<color> <shape>```?\n",
    "* Is there a ```<color> <shape>```?\n",
    "* Which color is in the image?\n",
    "* Which shape is in the image?\n",
    "\n",
    "The answers of the system are single words only: *'Yes', 'No', 'Green', 'Square', etc.*\n",
    "\n",
    "As the question format is that simple and the structure of them is the same for all questions, we do not need to use an RNN/LSTM approach to parse the question or to generate the answer but instead for getting the question as input we use a simple [Bag-Of-Words (BoW) approach](https://en.wikipedia.org/wiki/Bag-of-words_model). And we return a single output: the index of the answer word. \n",
    "\n",
    "For that we can consider our task a **simple multi-class classification task.**"
   ]
  },
  {
   "cell_type": "code",
   "execution_count": 1,
   "metadata": {},
   "outputs": [],
   "source": [
    "import os\n",
    "import glob\n",
    "import re\n",
    "\n",
    "from PIL import Image, ImageDraw\n",
    "\n",
    "import matplotlib.pyplot as plt\n",
    "import seaborn as sn\n",
    "import numpy as np\n",
    "import pandas as pd\n",
    "from sklearn.metrics import precision_score, recall_score, f1_score\n",
    "from sklearn.feature_extraction.text import CountVectorizer\n",
    "\n",
    "import tensorflow as tf\n",
    "from tensorflow.keras.optimizers import Adam\n",
    "from tensorflow.keras.models import Sequential, Model\n",
    "from tensorflow.keras.layers import Flatten, Dense, Dropout, Input, concatenate\n",
    "from tensorflow.keras.layers import Dense, Dropout, Flatten, Conv2D, MaxPooling2D\n",
    "from sklearn.model_selection import train_test_split\n",
    "\n",
    "%matplotlib inline"
   ]
  },
  {
   "cell_type": "markdown",
   "metadata": {},
   "source": [
    "### Data generation\n",
    "\n",
    "We generate 10 images for each color/shape combination (in case we want more training data we easily can generate more). Then the images are combined with the questions and answers. \n",
    "\n",
    "One flaw of the system is that the system is massively skewed towards 'No' answers (see [section Answer label distribution](#Answer-label-distribution)). To overcome this bias in the data, we could add more images with questions for colors and shapes rather than 'Yes', 'No' answers."
   ]
  },
  {
   "cell_type": "code",
   "execution_count": 2,
   "metadata": {},
   "outputs": [],
   "source": [
    "IMAGE_SIZE = (50, 50)\n",
    "\n",
    "colors = ['blue', 'red', 'green']\n",
    "color_map = {\n",
    "    'blue': '#0000FF',\n",
    "    'red': '#FF0000',\n",
    "    'green': '#00FF00'\n",
    "}\n",
    "shapes = ['square', 'circle', 'triangle']\n",
    "\n",
    "def get_dimensions():\n",
    "    width, height = IMAGE_SIZE\n",
    "    size = np.random.randint(10, width / 2)\n",
    "    left = np.random.randint(0, width - size)\n",
    "    top = np.random.randint(0, height - size)\n",
    "    \n",
    "    return left, top, size\n",
    "\n",
    "def draw_shape(img, color, shape):\n",
    "    idraw = ImageDraw.Draw(img)\n",
    "    left, top, size = get_dimensions()\n",
    "    if shape is 'square':\n",
    "        idraw.rectangle((left, top, left+size, top+size), fill=color_map[color])\n",
    "    elif shape is 'circle':\n",
    "        idraw.ellipse((left, top, left+size, top+size), fill=color_map[color])\n",
    "    elif shape is 'triangle':\n",
    "        idraw.polygon([(left, top+size), (left+size, top+size), (left+size/2, top)], fill=color_map[color])\n",
    "    \n",
    "def generate_shape_color_binary_questions(color, shape):\n",
    "    questions = []\n",
    "    for color2 in colors:\n",
    "        for shape2 in shapes:\n",
    "            questions.append((color, shape, 'Does the image contain a {} {}?'.format(color2, shape2), 'Yes' if color == color2 and shape == shape2 else 'No'))\n",
    "            questions.append((color, shape, 'Is there a {} {}?'.format(color2, shape2), 'Yes' if color == color2 and shape == shape2 else 'No'))\n",
    "    \n",
    "    return questions\n",
    "\n",
    "def generate_shape_binary_questions(color, shape):\n",
    "    questions = []\n",
    "    for shape2 in shapes:\n",
    "        questions.append((color, shape, 'Does the image contain a {}?'.format(shape2), 'Yes' if shape == shape2 else 'No'))\n",
    "        questions.append((color, shape, 'Is there a {}?'.format(shape2), 'Yes' if shape == shape2 else 'No'))\n",
    "    \n",
    "    return questions\n",
    "\n",
    "def generate_color_binary_questions(color, shape):\n",
    "    questions = []\n",
    "    for color2 in colors:\n",
    "        questions.append((color, shape, 'Does the image contain a {} shape?'.format(color2), 'Yes' if color == color2 else 'No'))\n",
    "        questions.append((color, shape, 'Is there a {} shape?'.format(color2), 'Yes' if color == color2 else 'No'))\n",
    "    \n",
    "    return questions\n",
    "\n",
    "def generate_shape_question(color, shape):\n",
    "    return [\n",
    "        (color, shape, 'Which color is in the image?', color)\n",
    "    ]\n",
    "\n",
    "def generate_color_question(color, shape):\n",
    "    return [\n",
    "        (color, shape, 'Which shape is in the image?', shape)\n",
    "    ]\n",
    "    \n",
    "def generate_question_answer_pairs(color, shape):\n",
    "    questions = []\n",
    "    questions.extend(generate_shape_color_binary_questions(color, shape))\n",
    "    questions.extend(generate_shape_binary_questions(color, shape))\n",
    "    questions.extend(generate_color_binary_questions(color, shape))\n",
    "    questions.extend(generate_shape_question(color, shape))\n",
    "    questions.extend(generate_color_question(color, shape))\n",
    "    \n",
    "    return questions\n",
    "\n",
    "questions = []\n",
    "for shape in shapes:\n",
    "    for color in colors:\n",
    "        questions.extend(generate_question_answer_pairs(color, shape))\n",
    "        for index in range(10):\n",
    "            if not os.path.isdir('./data/{}/{}'.format(color, shape)):\n",
    "                os.makedirs('./data/{}/{}'.format(color, shape))\n",
    "            img = Image.new('RGB', IMAGE_SIZE, 'white') \n",
    "            draw_shape(img, color, shape)\n",
    "            #img = img.rotate(45)\n",
    "            img.save('./data/{}/{}/{}_{}_{}'.format(color, shape, color, shape, index) + \".jpg\", \"JPEG\")\n",
    "            #plt.imshow(img)\n",
    "            #plt.show()\n",
    "\n",
    "f = open('./data/questions.txt', 'w+')\n",
    "for color, shape, question, answer in questions:\n",
    "     f.write('{},{},{},{}\\n'.format(color, shape, question, answer))\n",
    "f.close()"
   ]
  },
  {
   "cell_type": "code",
   "execution_count": 3,
   "metadata": {},
   "outputs": [],
   "source": [
    "def normalize_image(image):\n",
    "    return image / 255\n",
    "\n",
    "def load_images(color, shape):\n",
    "    return [normalize_image(np.array(Image.open(path).convert('L'))) for path in glob.glob('./data/{}/{}/*.jpg'.format(color, shape))]\n",
    "\n",
    "def load_questions(color, shape):\n",
    "    data = pd.read_csv('./data/questions.txt', names=['color', 'shape', 'question', 'answer'])\n",
    "\n",
    "    return data[(data['color'] == color) & (data['shape'] == shape)][['question', 'answer']].values\n",
    "    \n",
    "def load_images_and_question(color, shape):\n",
    "    images = load_images(color, shape)\n",
    "    questions = load_questions(color, shape)\n",
    "    \n",
    "    return [(image, question, answer) for image in images for (question, answer) in questions]\n",
    "\n",
    "\n",
    "#for (image, question, answer) in load_images_and_question('green', 'square'):\n",
    "#    plt.imshow(image)\n",
    "#    plt.show()\n",
    "#    print(image.shape, question, answer)\n",
    "\n",
    "#print(np.min(load_images_and_question('red', 'square')[0][0]))\n",
    "#print(np.min(load_images_and_question('green', 'square')[0][0]))\n",
    "#print(np.min(load_images_and_question('blue', 'square')[0][0]))"
   ]
  },
  {
   "cell_type": "markdown",
   "metadata": {},
   "source": [
    "### Data cleaning and preparation\n",
    "\n",
    "Before vectorizing the questions and answers, we clean the data: all characters are converted to lower case and we strip characters such as ```. , ? !```. \n",
    "\n",
    "Both the answers and questions are converted to BoWs using the [CountVectorizer](https://scikit-learn.org/stable/modules/generated/sklearn.feature_extraction.text.CountVectorizer.html) of the sklearn library. We keep a binary flag for occurrence only, rather than really counting the number of occurrences of each word.\n",
    "\n",
    "In our case the questions in total have 16 different words. We keep all of them (see [section Question: word corpus analysis](#Question:-word-corpus-analysis)) as the word corpus is quite small and skipping the least frequent words would cause a loss of required information: \n",
    "\n",
    "The least frequent word in the questions is ```color```, but as we ask which ```color``` is present in a shape now having this word in the word corpus would mean the system would not able to learn the concept of a color.\n",
    "\n",
    "Instead of using a BoW approach, we also could have used an LSTM to process the questions. LSTMs are widely used in [Natural Language Processing](https://en.wikipedia.org/wiki/Natural_language_processing) tasks utilizing Deep Learning, such as [Machine Translation](https://towardsdatascience.com/neural-machine-translation-15ecf6b0b).\n",
    "Also: instead of keeping the most frequent words of the corpus, we also could have gone for a TF-IDF related approach. TF-IDF stands for [Term Frequecy - Inverse Document Frequency](https://en.wikipedia.org/wiki/Tf%E2%80%93idf). There the weight of a word is calculated based on the number of occurrences of a term in a document, divided by the number of the number of documents where the word occurs. This means frequent terms such as ```the, is``` or ```a``` occur in almost all documents, thus they add very little information to understanding the context and thus have a lower weight. We could have calculated the weights of each word of the corpus and keep the one with the largest weights.\n",
    "\n",
    "But for now, we keep all words."
   ]
  },
  {
   "cell_type": "code",
   "execution_count": 4,
   "metadata": {},
   "outputs": [
    {
     "name": "stdout",
     "output_type": "stream",
     "text": [
      "                                               image  \\\n",
      "0  [[1.0, 1.0, 1.0, 1.0, 1.0, 1.0, 1.0, 1.0, 1.0,...   \n",
      "1  [[1.0, 1.0, 1.0, 1.0, 1.0, 1.0, 1.0, 1.0, 1.0,...   \n",
      "2  [[1.0, 1.0, 1.0, 1.0, 1.0, 1.0, 1.0, 1.0, 1.0,...   \n",
      "3  [[1.0, 1.0, 1.0, 1.0, 1.0, 1.0, 1.0, 1.0, 1.0,...   \n",
      "4  [[1.0, 1.0, 1.0, 1.0, 1.0, 1.0, 1.0, 1.0, 1.0,...   \n",
      "\n",
      "                                  question answer  \\\n",
      "0    Does the image contain a blue square?    Yes   \n",
      "1                  Is there a blue square?    Yes   \n",
      "2    Does the image contain a blue circle?     No   \n",
      "3                  Is there a blue circle?     No   \n",
      "4  Does the image contain a blue triangle?     No   \n",
      "\n",
      "                         cleaned_question cleaned_answer  \\\n",
      "0    does the image contain a blue square            yes   \n",
      "1                  is there a blue square            yes   \n",
      "2    does the image contain a blue circle             no   \n",
      "3                  is there a blue circle             no   \n",
      "4  does the image contain a blue triangle             no   \n",
      "\n",
      "                               transformed_question        transformed_answer  \n",
      "0  [1, 0, 0, 1, 1, 0, 1, 0, 0, 0, 0, 1, 1, 0, 0, 0]  [0, 0, 0, 0, 0, 0, 0, 1]  \n",
      "1  [1, 0, 0, 0, 0, 0, 0, 0, 1, 0, 0, 1, 0, 1, 0, 0]  [0, 0, 0, 0, 0, 0, 0, 1]  \n",
      "2  [1, 1, 0, 1, 1, 0, 1, 0, 0, 0, 0, 0, 1, 0, 0, 0]  [0, 0, 0, 1, 0, 0, 0, 0]  \n",
      "3  [1, 1, 0, 0, 0, 0, 0, 0, 1, 0, 0, 0, 0, 1, 0, 0]  [0, 0, 0, 1, 0, 0, 0, 0]  \n",
      "4  [1, 0, 0, 1, 1, 0, 1, 0, 0, 0, 0, 0, 1, 0, 1, 0]  [0, 0, 0, 1, 0, 0, 0, 0]  \n"
     ]
    }
   ],
   "source": [
    "def load_all_data():\n",
    "    images_and_questions = []\n",
    "    for color in colors:\n",
    "        for shape in shapes:\n",
    "            images_and_questions += load_images_and_question(color, shape)\n",
    "            \n",
    "    return pd.DataFrame(np.array(images_and_questions), columns=['image', 'question', 'answer'])\n",
    "\n",
    "def clean_sentence(sentence):\n",
    "    lowercase_sentence = sentence.lower()\n",
    "    return re.sub('[?,.\\-!:;]', '', lowercase_sentence)\n",
    "    \n",
    "data = load_all_data()\n",
    "\n",
    "data['cleaned_question'] = data['question'].apply(lambda s : clean_sentence(s))\n",
    "data['cleaned_answer'] = data['answer'].apply(lambda s : clean_sentence(s))\n",
    "\n",
    "question_vectorizer = CountVectorizer(analyzer='word', lowercase=True, binary=True)\n",
    "data['transformed_question'] = [vector.toarray()[0] for vector in question_vectorizer.fit_transform(data['cleaned_question'].values)]\n",
    "answer_vectorizer = CountVectorizer(analyzer='word', lowercase=True, binary=True)\n",
    "data['transformed_answer'] = [vector.toarray()[0] for vector in answer_vectorizer.fit_transform(data['cleaned_answer'].values)]\n",
    "\n",
    "print(data.head())"
   ]
  },
  {
   "cell_type": "markdown",
   "metadata": {},
   "source": [
    "### Question: word corpus analysis"
   ]
  },
  {
   "cell_type": "code",
   "execution_count": 5,
   "metadata": {},
   "outputs": [
    {
     "name": "stdout",
     "output_type": "stream",
     "text": [
      "Number of words: 16,\n",
      "vocabulary: {'does': 4, 'the': 12, 'image': 6, 'contain': 3, 'blue': 0, 'square': 11, 'is': 8, 'there': 13, 'circle': 1, 'triangle': 14, 'red': 9, 'green': 5, 'shape': 10, 'which': 15, 'color': 2, 'in': 7}\n",
      "[[1530, 'the'], [1530, 'image'], [1530, 'is'], [1350, 'does'], [1350, 'contain'], [1350, 'there'], [720, 'blue'], [720, 'square'], [720, 'circle'], [720, 'triangle'], [720, 'red'], [720, 'green'], [630, 'shape'], [180, 'which'], [180, 'in'], [90, 'color']]\n"
     ]
    },
    {
     "data": {
      "image/png": "[encoded data removed]",
      "text/plain": [
       "<Figure size 432x288 with 1 Axes>"
      ]
     },
     "metadata": {
      "needs_background": "light"
     },
     "output_type": "display_data"
    }
   ],
   "source": [
    "concatenated_questions = ' '.join(data['cleaned_question'])\n",
    "question_vectorizer_2 = CountVectorizer(analyzer='word', lowercase=True)\n",
    "vector = question_vectorizer_2.fit_transform([concatenated_questions]).toarray()[0]\n",
    "print('Number of words: {},\\nvocabulary: {}'.format(len(question_vectorizer_2.vocabulary_), question_vectorizer_2.vocabulary_))\n",
    "\n",
    "vector_dictionary = [[vector[index], word] for (word, index) in question_vectorizer_2.vocabulary_.items()]\n",
    "vector_dictionary.sort(key=lambda x : x[0], reverse=True)\n",
    "print(vector_dictionary)\n",
    "counts = [count for [count, _] in vector_dictionary]\n",
    "words = [word for [_, word] in vector_dictionary]\n",
    "plt.bar(words, counts)\n",
    "plt.show()"
   ]
  },
  {
   "cell_type": "code",
   "execution_count": 6,
   "metadata": {},
   "outputs": [
    {
     "name": "stdout",
     "output_type": "stream",
     "text": [
      "Number of words: 8,\n",
      "vocabulary: {'yes': 7, 'no': 3, 'blue': 0, 'square': 5, 'circle': 1, 'triangle': 6, 'red': 4, 'green': 2}\n"
     ]
    }
   ],
   "source": [
    "print('Number of words: {},\\nvocabulary: {}'.format(len(answer_vectorizer.vocabulary_), answer_vectorizer.vocabulary_))"
   ]
  },
  {
   "cell_type": "markdown",
   "metadata": {},
   "source": [
    "### Model generation\n",
    "\n",
    "The model we are using will retrieve an image and a question and return the output label. \n",
    "\n",
    "As images and texts are different input types, we build a model that accepts two inputs and processes them separately. For the final decision the processing result of the image and the question are concatenated and used to return calculate the final label.\n",
    "\n",
    "We are using [Tensorflow 2](https://www.tensorflow.org/) with the [Keras API](https://www.tensorflow.org/api_docs/python/tf/keras) to build our model.\n",
    "\n",
    "We set up 2 different models:\n",
    "* a CNN architecture to process the image\n",
    "* a Feedforward Neural Network to process the BoW questions\n",
    "\n",
    "The outputs of these 2 models are concatenated into another Feedforward NN to predict the label.\n",
    "\n",
    "As we have a multi-class classification task, we use a [Softmax Layer](https://developers.google.com/machine-learning/crash-course/multi-class-neural-networks/softmax) as the last layer of the model to normalize the outputs to have a sum of 1. Thus the output value for each class represents the probability of each class."
   ]
  },
  {
   "cell_type": "code",
   "execution_count": 7,
   "metadata": {},
   "outputs": [
    {
     "name": "stdout",
     "output_type": "stream",
     "text": [
      "Model: \"model\"\n",
      "__________________________________________________________________________________________________\n",
      "Layer (type)                    Output Shape         Param #     Connected to                     \n",
      "==================================================================================================\n",
      "input_1 (InputLayer)            [(None, 50, 50, 1)]  0                                            \n",
      "__________________________________________________________________________________________________\n",
      "input_2 (InputLayer)            [(None, 16)]         0                                            \n",
      "__________________________________________________________________________________________________\n",
      "sequential (Sequential)         (None, 32)           37232       input_1[0][0]                    \n",
      "__________________________________________________________________________________________________\n",
      "sequential_1 (Sequential)       (None, 8)            308         input_2[0][0]                    \n",
      "__________________________________________________________________________________________________\n",
      "concatenate (Concatenate)       (None, 40)           0           sequential[1][0]                 \n",
      "                                                                 sequential_1[1][0]               \n",
      "__________________________________________________________________________________________________\n",
      "dense_3 (Dense)                 (None, 12)           492         concatenate[0][0]                \n",
      "__________________________________________________________________________________________________\n",
      "dropout_2 (Dropout)             (None, 12)           0           dense_3[0][0]                    \n",
      "__________________________________________________________________________________________________\n",
      "dense_4 (Dense)                 (None, 8)            104         dropout_2[0][0]                  \n",
      "==================================================================================================\n",
      "Total params: 38,136\n",
      "Trainable params: 38,136\n",
      "Non-trainable params: 0\n",
      "__________________________________________________________________________________________________\n"
     ]
    }
   ],
   "source": [
    "IMAGE_SHAPE = (IMAGE_SIZE[0], IMAGE_SIZE[1], 1)\n",
    "QUESTION_SHAPE = 16\n",
    "ANSWER_SHAPE = 8\n",
    "\n",
    "def adam_optimizer():\n",
    "    return Adam(lr = 0.001, beta_1 = 0.5)\n",
    "\n",
    "def get_image_cnn():\n",
    "    model = Sequential()\n",
    "    model.add(Conv2D(4, kernel_size=(3, 3), activation='relu', input_shape=IMAGE_SHAPE, padding='same'))\n",
    "    model.add(MaxPooling2D(pool_size=(2, 2)))\n",
    "    model.add(Conv2D(8, kernel_size=(3, 3), activation='relu', padding='same'))\n",
    "    model.add(MaxPooling2D(pool_size=(2, 2)))\n",
    "    model.add(Flatten())\n",
    "    model.add(Dropout(0.1))\n",
    "    model.add(Dense(32, activation='relu'))\n",
    "    return model\n",
    "\n",
    "def get_question_nn():\n",
    "    model = Sequential()\n",
    "    model.add(Dense(12, input_shape=(QUESTION_SHAPE,), activation='relu'))\n",
    "    model.add(Dropout(0.1))\n",
    "    model.add(Dense(8, activation='relu'))\n",
    "    return model\n",
    "\n",
    "def get_model():\n",
    "    image_model = get_image_cnn()\n",
    "    question_model = get_question_nn()\n",
    "    input_image = Input(shape=IMAGE_SHAPE)\n",
    "    input_question = Input(shape=(QUESTION_SHAPE,))\n",
    "    \n",
    "    image_result = image_model(input_image)\n",
    "    question_result = question_model(input_question)\n",
    "    result = concatenate([image_result, question_result])\n",
    "    result = Dense(12, activation='relu')(result)\n",
    "    result = Dropout(0.1)(result)\n",
    "    result = Dense(ANSWER_SHAPE, activation='softmax')(result)\n",
    "    model = Model(inputs=[input_image, input_question], outputs=result)\n",
    "    model.compile(loss='categorical_crossentropy', optimizer=adam_optimizer(), metrics=['accuracy'])\n",
    "    return model\n",
    "\n",
    "get_model().summary()"
   ]
  },
  {
   "cell_type": "markdown",
   "metadata": {},
   "source": [
    "### Model training\n",
    "\n",
    "We are splitting the dataset (images with questions and answers) into a training set and a validation set. We keep 10% of all data out and use it to validate our model after training.\n",
    "\n",
    "We train the model for 50 epochs with a batch size of 4. These two hyperparameters need to be tuned to achieve a well-fitting model that is not over-fitted to the training.\n",
    "\n",
    "We measure the loss of the model via a [Categorical crossentropy](https://peltarion.com/knowledge-center/documentation/modeling-view/build-an-ai-model/loss-functions/categorical-crossentropy) and use the [Adam optimizer](https://arxiv.org/abs/1412.6980).\n",
    "\n",
    "The accuracy of the model measures the percentage of correctly predicted labels. The loss the divergence of the correct label to the model prediction. As the model predicts percentages of each class and then chooses the maximum as correct label, the loss can be larger than zero even if the model makes the correct prediction."
   ]
  },
  {
   "cell_type": "code",
   "execution_count": 8,
   "metadata": {
    "scrolled": true
   },
   "outputs": [
    {
     "name": "stdout",
     "output_type": "stream",
     "text": [
      "(2592, 50, 50, 1) (2592, 16) (2592, 8)\n",
      "Train on 2592 samples\n",
      "Epoch 1/50\n",
      "2592/2592 [==============================] - 8s 3ms/sample - loss: 0.8244 - accuracy: 0.7257\n",
      "Epoch 2/50\n",
      "2592/2592 [==============================] - 7s 3ms/sample - loss: 0.6108 - accuracy: 0.7620\n",
      "Epoch 3/50\n",
      "2592/2592 [==============================] - 8s 3ms/sample - loss: 0.5841 - accuracy: 0.7635\n",
      "Epoch 4/50\n",
      "2592/2592 [==============================] - 6s 2ms/sample - loss: 0.5735 - accuracy: 0.7647\n",
      "Epoch 5/50\n",
      "2592/2592 [==============================] - 6s 2ms/sample - loss: 0.5664 - accuracy: 0.7658\n",
      "Epoch 6/50\n",
      "2592/2592 [==============================] - 7s 3ms/sample - loss: 0.5586 - accuracy: 0.7689\n",
      "Epoch 7/50\n",
      "2592/2592 [==============================] - 8s 3ms/sample - loss: 0.5607 - accuracy: 0.7685\n",
      "Epoch 8/50\n",
      "2592/2592 [==============================] - 10s 4ms/sample - loss: 0.5543 - accuracy: 0.7674\n",
      "Epoch 9/50\n",
      "2592/2592 [==============================] - 10s 4ms/sample - loss: 0.5467 - accuracy: 0.7689\n",
      "Epoch 10/50\n",
      "2592/2592 [==============================] - 13s 5ms/sample - loss: 0.5470 - accuracy: 0.7743\n",
      "Epoch 11/50\n",
      "2592/2592 [==============================] - 21s 8ms/sample - loss: 0.5425 - accuracy: 0.7743\n",
      "Epoch 12/50\n",
      "2592/2592 [==============================] - 21s 8ms/sample - loss: 0.5364 - accuracy: 0.7731\n",
      "Epoch 13/50\n",
      "2592/2592 [==============================] - 14s 5ms/sample - loss: 0.5277 - accuracy: 0.7704\n",
      "Epoch 14/50\n",
      "2592/2592 [==============================] - 11s 4ms/sample - loss: 0.5203 - accuracy: 0.7743\n",
      "Epoch 15/50\n",
      "2592/2592 [==============================] - 13s 5ms/sample - loss: 0.5185 - accuracy: 0.7762\n",
      "Epoch 16/50\n",
      "2592/2592 [==============================] - 9s 4ms/sample - loss: 0.5136 - accuracy: 0.7774\n",
      "Epoch 17/50\n",
      "2592/2592 [==============================] - 9s 4ms/sample - loss: 0.5099 - accuracy: 0.7793\n",
      "Epoch 18/50\n",
      "2592/2592 [==============================] - 12s 4ms/sample - loss: 0.5106 - accuracy: 0.7805\n",
      "Epoch 19/50\n",
      "2592/2592 [==============================] - 12s 5ms/sample - loss: 0.4986 - accuracy: 0.7805\n",
      "Epoch 20/50\n",
      "2592/2592 [==============================] - 11s 4ms/sample - loss: 0.4934 - accuracy: 0.7859\n",
      "Epoch 21/50\n",
      "2592/2592 [==============================] - 10s 4ms/sample - loss: 0.4729 - accuracy: 0.7870\n",
      "Epoch 22/50\n",
      "2592/2592 [==============================] - 10s 4ms/sample - loss: 0.4582 - accuracy: 0.7998s - los\n",
      "Epoch 23/50\n",
      "2592/2592 [==============================] - 8s 3ms/sample - loss: 0.4365 - accuracy: 0.8009\n",
      "Epoch 24/50\n",
      "2592/2592 [==============================] - 6s 2ms/sample - loss: 0.4261 - accuracy: 0.8148\n",
      "Epoch 25/50\n",
      "2592/2592 [==============================] - 6s 2ms/sample - loss: 0.4215 - accuracy: 0.8048\n",
      "Epoch 26/50\n",
      "2592/2592 [==============================] - 6s 2ms/sample - loss: 0.4094 - accuracy: 0.8133\n",
      "Epoch 27/50\n",
      "2592/2592 [==============================] - 6s 2ms/sample - loss: 0.3874 - accuracy: 0.8198\n",
      "Epoch 28/50\n",
      "2592/2592 [==============================] - 6s 2ms/sample - loss: 0.3894 - accuracy: 0.8237\n",
      "Epoch 29/50\n",
      "2592/2592 [==============================] - 7s 3ms/sample - loss: 0.3748 - accuracy: 0.8252\n",
      "Epoch 30/50\n",
      "2592/2592 [==============================] - 7s 3ms/sample - loss: 0.3743 - accuracy: 0.8221\n",
      "Epoch 31/50\n",
      "2592/2592 [==============================] - 7s 3ms/sample - loss: 0.3744 - accuracy: 0.8202\n",
      "Epoch 32/50\n",
      "2592/2592 [==============================] - 6s 2ms/sample - loss: 0.3396 - accuracy: 0.8380\n",
      "Epoch 33/50\n",
      "2592/2592 [==============================] - 6s 2ms/sample - loss: 0.3438 - accuracy: 0.8422\n",
      "Epoch 34/50\n",
      "2592/2592 [==============================] - 6s 2ms/sample - loss: 0.3406 - accuracy: 0.8349\n",
      "Epoch 35/50\n",
      "2592/2592 [==============================] - 6s 2ms/sample - loss: 0.3161 - accuracy: 0.8445\n",
      "Epoch 36/50\n",
      "2592/2592 [==============================] - 6s 2ms/sample - loss: 0.3003 - accuracy: 0.8492\n",
      "Epoch 37/50\n",
      "2592/2592 [==============================] - 6s 2ms/sample - loss: 0.2928 - accuracy: 0.8596\n",
      "Epoch 38/50\n",
      "2592/2592 [==============================] - 6s 2ms/sample - loss: 0.2881 - accuracy: 0.8657\n",
      "Epoch 39/50\n",
      "2592/2592 [==============================] - 7s 3ms/sample - loss: 0.2870 - accuracy: 0.8708\n",
      "Epoch 40/50\n",
      "2592/2592 [==============================] - 7s 3ms/sample - loss: 0.2789 - accuracy: 0.8746\n",
      "Epoch 41/50\n",
      "2592/2592 [==============================] - 8s 3ms/sample - loss: 0.2566 - accuracy: 0.8904\n",
      "Epoch 42/50\n",
      "2592/2592 [==============================] - 7s 3ms/sample - loss: 0.2502 - accuracy: 0.8916\n",
      "Epoch 43/50\n",
      "2592/2592 [==============================] - 8s 3ms/sample - loss: 0.2481 - accuracy: 0.9024\n",
      "Epoch 44/50\n",
      "2592/2592 [==============================] - 7s 3ms/sample - loss: 0.2346 - accuracy: 0.9055\n",
      "Epoch 45/50\n",
      "2592/2592 [==============================] - 7s 3ms/sample - loss: 0.2331 - accuracy: 0.9066\n",
      "Epoch 46/50\n",
      "2592/2592 [==============================] - 7s 3ms/sample - loss: 0.2172 - accuracy: 0.9167\n",
      "Epoch 47/50\n",
      "2592/2592 [==============================] - 8s 3ms/sample - loss: 0.2395 - accuracy: 0.8981\n",
      "Epoch 48/50\n",
      "2592/2592 [==============================] - 6s 2ms/sample - loss: 0.2307 - accuracy: 0.9055\n",
      "Epoch 49/50\n",
      "2592/2592 [==============================] - 6s 2ms/sample - loss: 0.2079 - accuracy: 0.9182\n",
      "Epoch 50/50\n",
      "2592/2592 [==============================] - 7s 3ms/sample - loss: 0.1873 - accuracy: 0.9252\n"
     ]
    }
   ],
   "source": [
    "# data_filtered = data[(data['answer'] == 'circle') | (data['answer'] == 'square') | (data['answer'] == 'triangle')]\n",
    "# data_filtered = data[(data['answer'] == 'red') | (data['answer'] == 'green') | (data['answer'] == 'blue')]\n",
    "# data_filtered = data[(data['answer'] == 'red') | (data['answer'] == 'green') | (data['answer'] == 'blue') | (data['answer'] == 'circle') | (data['answer'] == 'square') | (data['answer'] == 'triangle')]\n",
    "data_filtered = data\n",
    "\n",
    "images, questions, answers = data_filtered['image'].values, data_filtered['transformed_question'].values, data_filtered['transformed_answer'].values\n",
    "images = np.array([image.reshape(IMAGE_SHAPE) for image in images])\n",
    "questions = np.array([question.reshape(QUESTION_SHAPE) for question in questions])\n",
    "answers = np.array([answer.reshape(ANSWER_SHAPE) for answer in answers])\n",
    "\n",
    "train_images, test_images, train_questions, test_questions, train_answers, test_answers = train_test_split(images, questions, answers, test_size=0.1, random_state=42)\n",
    "\n",
    "print(train_images.shape, train_questions.shape, train_answers.shape)\n",
    "\n",
    "model = get_model()\n",
    "\n",
    "history = model.fit([train_images, train_questions], train_answers, epochs=50, batch_size=4)"
   ]
  },
  {
   "cell_type": "markdown",
   "metadata": {},
   "source": [
    "After training we achieve the following accuracy:"
   ]
  },
  {
   "cell_type": "code",
   "execution_count": 9,
   "metadata": {
    "scrolled": true
   },
   "outputs": [
    {
     "name": "stdout",
     "output_type": "stream",
     "text": [
      "Model accuracy on non-training data (test data):\n",
      "288/288 - 0s - loss: 0.1327 - accuracy: 0.9826\n"
     ]
    },
    {
     "data": {
      "image/png": "[encoded data removed]",
      "text/plain": [
       "<Figure size 432x288 with 1 Axes>"
      ]
     },
     "metadata": {
      "needs_background": "light"
     },
     "output_type": "display_data"
    }
   ],
   "source": [
    "print('Model accuracy on non-training data (test data):')\n",
    "model.evaluate([test_images, test_questions], test_answers, verbose=2)\n",
    "\n",
    "plt.plot(history.history['accuracy'])\n",
    "plt.plot(history.history['loss'])\n",
    "plt.title('Model accuracy')\n",
    "plt.ylabel('Accuracy/Loss')\n",
    "plt.xlabel('Epoch')\n",
    "plt.legend(['Accuracy', 'Loss'], loc='upper left')\n",
    "plt.show()"
   ]
  },
  {
   "cell_type": "markdown",
   "metadata": {},
   "source": [
    "The model achieved an accuracy (percentage of correctly predicted labels) of 98% on our testing set of examples. These were not used during the training phase and were completely new to the model. \n",
    "\n",
    "Thus, they are a good measure to see how the model reacts to new inputs."
   ]
  },
  {
   "cell_type": "markdown",
   "metadata": {},
   "source": [
    "### Model evaluation\n",
    "\n",
    "To even better understand how the model performed we did a few more performance checks:\n",
    "* calculating a confusion matrix to understand which classes the model is mixing up\n",
    "* calculating the precision, recall and f1-scores to measure the ability of the system to avoid *False Positives* and *False Negatives*, meaning that the system does not over- or under-select the right classes."
   ]
  },
  {
   "cell_type": "code",
   "execution_count": 10,
   "metadata": {},
   "outputs": [
    {
     "name": "stdout",
     "output_type": "stream",
     "text": [
      "Confusion matrix\n"
     ]
    },
    {
     "data": {
      "image/png": "[encoded data removed]",
      "text/plain": [
       "<Figure size 432x288 with 2 Axes>"
      ]
     },
     "metadata": {
      "needs_background": "light"
     },
     "output_type": "display_data"
    },
    {
     "name": "stdout",
     "output_type": "stream",
     "text": [
      "Precision: 0.9713392857142857\n",
      "Recall: 0.9733270202020202\n",
      "f1-score: 0.9699700665798763\n"
     ]
    }
   ],
   "source": [
    "y_pred = np.argmax(model.predict([test_images, test_questions]), axis=1)\n",
    "y_test = np.argmax(test_answers, axis=1)\n",
    "\n",
    "print('Confusion matrix')\n",
    "matrix = tf.math.confusion_matrix(y_test, y_pred).numpy()\n",
    "row_sums = np.sum(matrix, axis=1)\n",
    "matrix = np.around(matrix / row_sums[:,None], decimals=3)\n",
    "sn.heatmap(matrix, annot=True)\n",
    "plt.show()\n",
    "print('Precision:', precision_score(y_test, y_pred, average='macro'))\n",
    "print('Recall:', recall_score(y_test, y_pred, average='macro'))\n",
    "print('f1-score:', f1_score(y_test, y_pred, average='macro'))"
   ]
  },
  {
   "cell_type": "markdown",
   "metadata": {},
   "source": [
    "In the confusion matrix, we see that for most labels the model is able to predict the correct label. Only for label 0 (on the x-axis) the model has confused it with label 4 in 17% of the cases. \n",
    "\n",
    "When looking up the meaning of the labels:\n",
    "* label 0: blue\n",
    "* label 4: red\n",
    "\n",
    "This means the model seems to have a small blue-red weakness.\n",
    "\n",
    "The ```precision, recall``` and ```f1-score``` are measures of how well the model is able to assign the correct labels. Instead of just counting the ratio of correct labels, they also take into consideration on the False Positive and False Negative rates of the model."
   ]
  },
  {
   "cell_type": "code",
   "execution_count": 11,
   "metadata": {},
   "outputs": [
    {
     "name": "stdout",
     "output_type": "stream",
     "text": [
      "Image:\n"
     ]
    },
    {
     "data": {
      "image/png": "[encoded data removed]",
      "text/plain": [
       "<Figure size 432x288 with 1 Axes>"
      ]
     },
     "metadata": {
      "needs_background": "light"
     },
     "output_type": "display_data"
    },
    {
     "name": "stdout",
     "output_type": "stream",
     "text": [
      "Encoded question: [0 0 0 0 0 0 0 0 1 0 0 0 0 1 1 0]\n",
      "Correct answer: 3\n",
      "WARNING:tensorflow:Your input ran out of data; interrupting training. Make sure that your dataset or generator can generate at least `steps_per_epoch * epochs` batches (in this case, 2 batches). You may need to use the repeat() function when building your dataset.\n",
      "Predicted answer: 3\n"
     ]
    }
   ],
   "source": [
    "print('Image:')\n",
    "plt.imshow(test_images[0].reshape(IMAGE_SIZE))\n",
    "plt.show()\n",
    "print('Encoded question:', test_questions[0])\n",
    "print('Correct answer:', np.argmax(test_answers[0]))\n",
    "print('Predicted answer:', np.argmax(model.predict([[test_images[0]], [test_questions[0]]]), axis=1)[0])"
   ]
  },
  {
   "cell_type": "markdown",
   "metadata": {},
   "source": [
    "### Answer label distribution"
   ]
  },
  {
   "cell_type": "code",
   "execution_count": 12,
   "metadata": {
    "scrolled": true
   },
   "outputs": [
    {
     "name": "stdout",
     "output_type": "stream",
     "text": [
      "Test label distribution\n"
     ]
    },
    {
     "data": {
      "image/png": "[encoded data removed]",
      "text/plain": [
       "<Figure size 432x288 with 1 Axes>"
      ]
     },
     "metadata": {
      "needs_background": "light"
     },
     "output_type": "display_data"
    }
   ],
   "source": [
    "print('Test label distribution')\n",
    "plt.hist(y_test, bins=8)\n",
    "plt.show()"
   ]
  },
  {
   "cell_type": "markdown",
   "metadata": {},
   "source": [
    "## Future extensions\n",
    "\n",
    "* build a service to answer questions\n",
    "* extend the domain: more colors, shapes. Add noisy images (currently we have only a little noise because of the conversion to JPEG\n",
    "* playing with other model architectures & document the performance. Currently We have tuned the model in the background\n",
    " * do a systematic hyperparameter tuning process\n",
    "* use transfer learning:\n",
    " * use an already trained object-detection model for \"understanding\" the images\n",
    " * use a pre-trained NLP-model for question understanding"
   ]
  }
 ],
 "metadata": {
  "kernelspec": {
   "display_name": "Python 3",
   "language": "python",
   "name": "python3"
  },
  "language_info": {
   "codemirror_mode": {
    "name": "ipython",
    "version": 3
   },
   "file_extension": ".py",
   "mimetype": "text/x-python",
   "name": "python",
   "nbconvert_exporter": "python",
   "pygments_lexer": "ipython3",
   "version": "3.7.5"
  }
 },
 "nbformat": 4,
 "nbformat_minor": 2
}
