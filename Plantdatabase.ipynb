{
 "cells": [
  {
   "cell_type": "code",
   "execution_count": null,
   "id": "157566c2-54e3-4e90-8c08-9cfae0190178",
   "metadata": {},
   "outputs": [],
   "source": [
    "import json\n",
    "\n",
    "with open('plant-database.json') as f:\n",
    "    plants = json.loads(f.read())\n",
    "print(len(plants))"
   ]
  },
  {
   "cell_type": "code",
   "execution_count": null,
   "id": "1282a538-5a2d-4fc5-8879-6818340be139",
   "metadata": {},
   "outputs": [],
   "source": [
    "import asyncio\n",
    "from langchain_community.document_loaders import WikipediaLoader\n",
    "\n",
    "async def load_plant(plant):\n",
    "    try:\n",
    "        docs = await WikipediaLoader(query=plant['latinName'], load_max_docs=1, lang='de').aload()\n",
    "        if len(docs) == 0:\n",
    "            docs = await WikipediaLoader(query=plant['name'], load_max_docs=1, lang='de').aload()\n",
    "        if len(docs) == 0:\n",
    "            return (plant['latinName'], None, None)\n",
    "        return (plant['latinName'], docs[0].page_content, docs[0].metadata['source'])\n",
    "    except:\n",
    "        return (plant['latinName'], None, None)\n",
    "\n",
    "async def load_plants(plants_queue, result_queue):\n",
    "    while not plants_queue.empty():\n",
    "        plant = await plants_queue.get()\n",
    "        res = await load_plant(plant)\n",
    "        await result_queue.put(res)\n",
    "        plants_queue.task_done()\n",
    "    return True"
   ]
  },
  {
   "cell_type": "code",
   "execution_count": null,
   "id": "81bd16a4-6e12-48da-9877-9bde7edc562f",
   "metadata": {},
   "outputs": [],
   "source": [
    "plants_queue = asyncio.Queue(0)\n",
    "result_queue = asyncio.Queue(0)\n",
    "\n",
    "for plant in plants:\n",
    "    plants_queue.put_nowait(plant)\n",
    "\n",
    "await asyncio.gather(*[ load_plants(plants_queue, result_queue) for _ in range(10)  ])\n",
    "\n",
    "plant_documents = []\n",
    "while not result_queue.empty():\n",
    "    plant_documents.append(result_queue.get_nowait())\n",
    "len(plant_documents)"
   ]
  },
  {
   "cell_type": "code",
   "execution_count": null,
   "id": "01665333-3742-4cba-837b-944dde3efe41",
   "metadata": {},
   "outputs": [],
   "source": [
    "import pandas as pd\n",
    "\n",
    "plants_df = pd.DataFrame(plant_documents, columns=['latinName', 'document', 'source'])\n",
    "plants_df"
   ]
  },
  {
   "cell_type": "code",
   "execution_count": null,
   "id": "0c3d885e-4d15-475b-bf3f-833d2f20a176",
   "metadata": {},
   "outputs": [],
   "source": [
    "mising = set(plants_df[plants_df['document'].isna()]['latinName'].values)\n",
    "\n",
    "missing_plants = [ plant for plant in plants if plant['latinName'] in mising ]\n",
    "len(missing_plants)"
   ]
  },
  {
   "cell_type": "code",
   "execution_count": null,
   "id": "fa1a7590-9364-4959-8a96-9d5fd09fa914",
   "metadata": {},
   "outputs": [],
   "source": [
    "plants_queue = asyncio.Queue(0)\n",
    "result_queue = asyncio.Queue(0)\n",
    "\n",
    "for plant in missing_plants:\n",
    "    plants_queue.put_nowait(plant)\n",
    "\n",
    "await asyncio.gather(*[ load_plants(plants_queue, result_queue) for _ in range(10) ])\n",
    "\n",
    "plant_documents2 = []\n",
    "while not result_queue.empty():\n",
    "    plant_documents2.append(result_queue.get_nowait())\n",
    "len(plant_documents2)"
   ]
  },
  {
   "cell_type": "code",
   "execution_count": null,
   "id": "7c58a349-8506-40c8-b93d-377bfc0cb2b2",
   "metadata": {},
   "outputs": [],
   "source": [
    "plants_df2 = pd.DataFrame(plant_documents2, columns=['latinName', 'document', 'source'])\n",
    "plants_df2"
   ]
  },
  {
   "cell_type": "code",
   "execution_count": null,
   "id": "e46072fe-65ec-41f2-a627-4aad37d06e22",
   "metadata": {},
   "outputs": [],
   "source": [
    "len(plants_df2[plants_df2['document'].isna()]['latinName'].values)"
   ]
  },
  {
   "cell_type": "code",
   "execution_count": null,
   "id": "d9241aef-2e41-4b4f-87d6-d416130b4413",
   "metadata": {},
   "outputs": [],
   "source": [
    "plants_df = pd.concat([plants_df.dropna(), plants_df2.dropna()])\n",
    "plants_df"
   ]
  },
  {
   "cell_type": "code",
   "execution_count": 1,
   "id": "bc4d4530-3951-45a9-b40d-d84a5f34dee3",
   "metadata": {},
   "outputs": [],
   "source": [
    "import re\n",
    "\n",
    "def cleanup(value):\n",
    "    value = value.replace('\\n', ' ')\n",
    "    value = re.sub(r'=+', ' ', value)\n",
    "    value = re.sub(r' +', ' ', value)\n",
    "    value = re.sub(r';', '.', value)\n",
    "    return value\n",
    "\n",
    "plants_df['document'] = plants_df['document'].apply(cleanup)\n",
    "plants_df.to_csv('plants.tsv', sep='\\t', index=False)"
   ]
  },
  {
   "cell_type": "code",
   "execution_count": 2,
   "id": "c23fb028-5cc3-48fc-8e7c-cb6ab79356f2",
   "metadata": {},
   "outputs": [
    {
     "data": {
      "text/plain": [
       "2515"
      ]
     },
     "execution_count": 2,
     "metadata": {},
     "output_type": "execute_result"
    }
   ],
   "source": [
    "from langchain_community.document_loaders import DataFrameLoader\n",
    "\n",
    "loader = DataFrameLoader(plants_df, page_content_column='document')\n",
    "docs = loader.load()\n",
    "len(docs)"
   ]
  },
  {
   "cell_type": "code",
   "execution_count": 4,
   "id": "4c440b4a-0c96-4d0e-a6cd-68c8e6625d6e",
   "metadata": {},
   "outputs": [
    {
     "data": {
      "text/plain": [
       "33861"
      ]
     },
     "execution_count": 4,
     "metadata": {},
     "output_type": "execute_result"
    }
   ],
   "source": [
    "from langchain_text_splitters import SentenceTransformersTokenTextSplitter\n",
    "\n",
    "text_splitter = SentenceTransformersTokenTextSplitter(model_name='sentence-transformers/paraphrase-multilingual-MiniLM-L12-v2')\n",
    "split_docs = text_splitter.split_documents(docs)\n",
    "len(split_docs)"
   ]
  },
  {
   "cell_type": "code",
   "execution_count": 10,
   "id": "a1a19690-0682-46d3-a3b6-aba4ce3c7fb5",
   "metadata": {},
   "outputs": [],
   "source": [
    "from langchain_community.embeddings import OllamaEmbeddings\n",
    "from langchain.vectorstores import FAISS\n",
    "\n",
    "embeddings = OllamaEmbeddings(model='sentence-transformers/paraphrase-multilingual-MiniLM-L12-v2', base_url='http://localhost:11434', query_instruction='', embed_instruction='')"
   ]
  },
  {
   "cell_type": "code",
   "execution_count": 13,
   "id": "69779ddc-f7db-4ff2-aa09-988fab17c5cb",
   "metadata": {},
   "outputs": [
    {
     "name": "stdout",
     "output_type": "stream",
     "text": [
      "CPU times: user 2min 43s, sys: 49.7 s, total: 3min 33s\n",
      "Wall time: 1h 1min 10s\n"
     ]
    }
   ],
   "source": [
    "%%time\n",
    "db = FAISS.from_documents(split_docs, embeddings)"
   ]
  },
  {
   "cell_type": "code",
   "execution_count": 14,
   "id": "f4de4119-7925-478f-918f-8fe6d26a9ce6",
   "metadata": {},
   "outputs": [],
   "source": [
    "db.save_local('plantsdb-sentence_transformer-l12')"
   ]
  },
  {
   "cell_type": "code",
   "execution_count": 30,
   "id": "5a9e8e94-3b46-4bc7-9a44-6c012b1d1409",
   "metadata": {},
   "outputs": [
    {
     "data": {
      "text/plain": [
       "[(Document(page_content='„bereift“. Die zwittrigen und duftenden Blüten sind gelbe, halbkugelig-glockige, nektarführende Scheibenblumen. Sie finden sich in bis zu dreißigblütigen und hängenden, traubigen Blütenständen, die sich endständig an Kurztrieben befinden. Die Blüten besitzen jeweils bootförmige, sechs grünlich-gelbe Kelchblätter in zwei Kreisen, drei äußere kleinere und drei größere innere, sowie sechs, etwas kleinere, gelbe Kronblätter mit kleinen, basalen', metadata={'latinName': 'Berberis vulgaris', 'source': 'https://de.wikipedia.org/wiki/Gew%C3%B6hnliche_Berberitze'}),\n",
       "  4.480606),\n",
       " (Document(page_content='mal so lang wie ihre Deckblätter. Die relativ kleinen, zwittrigen Blüten besitzen eine doppelte Blütenhülle. Die Blütenkrone ist blassblau und dunkler (gestreift) geadert und besitzt einen gelblichen Schlund. Der Fruchtstiel ist zwei- bis dreimal so lang wie der Blütenkelch. Die sehr tief spitzwinklig ausgerandete, stark abgeflachte Kapselfrucht ist so lang wie die Kelchblätter, aber überragt diese etwas und reichlich drüsig behaart.', metadata={'latinName': 'Veronica acinifolia', 'source': 'https://de.wikipedia.org/wiki/Steinquendel-Ehrenpreis'}),\n",
       "  4.988782),\n",
       " (Document(page_content='blätter sind in gelbe Staubfäden und 2 bis 4 Millimeter lange Staubbeutel gegliedert. Die Blüte ist meist schon nach wenigen Tagen komplett bestäubt und wirft dann auch ihre Blütenkronblätter ab. Die Blüten von Ziermohnrassen können andersfarbig sein und mehr als vier Blütenkronblätter besitzen. Die kugeligen Kapselfrüchte enthalten hunderte Samen. Die relativ kleinen Samen sind nierenförmig, hart, erhaben netzartig geadert und grubig vertieft. Stahlblaue Samen sind der', metadata={'latinName': 'Papaver somniferum', 'source': 'https://de.wikipedia.org/wiki/Schlafmohn'}),\n",
       "  5.138687),\n",
       " (Document(page_content='igen Schaftes. Der Blütenbecher trägt fünf grüne Kelchblätter und fünf rundliche Kronblätter. Zwischen den eigentlichen Kelchblättern stehen fünf weitere, kleinere Nebenkelchblätter (Epicalyx). Es sind viele Staubblätter vorhanden. Auf dem aufgewölbten Blütenboden sitzen zahlreiche freie Fruchtblätter. Bei der Reife bildet der Blütenboden eine saftig fleischige Scheinbeere. Die Früchte im biologischen Sinn sind kleine gelblich bis rötliche, einsamige Nüsschen (nach anderer Auffassung Achänen', metadata={'latinName': 'Fragaria moschata', 'source': 'https://de.wikipedia.org/wiki/Erdbeeren'}),\n",
       "  5.1987953),\n",
       " (Document(page_content='igen Schaftes. Der Blütenbecher trägt fünf grüne Kelchblätter und fünf rundliche Kronblätter. Zwischen den eigentlichen Kelchblättern stehen fünf weitere, kleinere Nebenkelchblätter (Epicalyx). Es sind viele Staubblätter vorhanden. Auf dem aufgewölbten Blütenboden sitzen zahlreiche freie Fruchtblätter. Bei der Reife bildet der Blütenboden eine saftig fleischige Scheinbeere. Die Früchte im biologischen Sinn sind kleine gelblich bis rötliche, einsamige Nüsschen (nach anderer Auffassung Achänen', metadata={'latinName': 'Fragaria ×ananassa', 'source': 'https://de.wikipedia.org/wiki/Erdbeeren'}),\n",
       "  5.1987953),\n",
       " (Document(page_content='zler. Blütenökologisch handelt es sich um unauffällige, homogame „Nektar führende Scheibenblumen“. Die Gelbfärbung der Kronblätter wird durch das Flavon Luteolin hervorgerufen. Die Blüten sind selbstfertil und ihr Nektarium ist überdeckt. Bestäuber sind vor allem kleinere Wildbienen, Fliegen und Käfer. Es handelt sich um Kapselfrüchte mit einer endständigen Pore. Bereits junge Früchte sind an der Spitze geöffnet. Sie sind Wind- und Tierstreuer. Die winzigen', metadata={'latinName': 'Reseda luteola', 'source': 'https://de.wikipedia.org/wiki/F%C3%A4rber-Wau'}),\n",
       "  5.2401714),\n",
       " (Document(page_content='lüten sind reich an Flavonen und dadurch gelb. Die Unterlippe ist durch ein federndes Gelenk an die Oberlippe gepresst und so nur von Hummeln und größeren Wildbienen zu öffnen. Man nennt die Blüte deshalb eine „Kraftblume“. Die Haarwülste der Unterlippe sind eine Abdichtung und Führungslinie zum Nektar, der sich in dem 10 bis 13 Millimeter langen Kronblattsporn befindet. Die Blüten sind homogam aber selbststeril. Bestäuber sind besonders Hummeln und', metadata={'latinName': 'Linaria vulgaris', 'source': 'https://de.wikipedia.org/wiki/Echtes_Leinkraut'}),\n",
       "  5.24074),\n",
       " (Document(page_content='ten sind radiärsymmetrisch und fünfzählig. Jeweils fünf kleine Außenkelchblätter umgeben eine Blüte. Ein zweiter, alternierender Kreis wird von den eigentlichen Kelchblättern gebildet. Die Blüte hat fünf weiße Kronblätter. Es sind etwa 20 gelbe Staubblätter vorhanden. Die Fruchtblätter haben eine gelbgrüne Farbe. Die Blüten sind vorweiblich, womit eine Selbstbestäubung verhindert wird. Verwechslungsmöglichkeit Eine Verwechslungsmöglichkeit besteht mit der Indischen Scheinerdbeere', metadata={'latinName': 'Fragaria vesca', 'source': 'https://de.wikipedia.org/wiki/Wald-Erdbeere'}),\n",
       "  5.2847285),\n",
       " (Document(page_content='ckenförmig und dreizählig. Die sechs weißgefärbten Blütenhüllblätter sind fast gleich lang und weisen an den stumpf-zipfelig auslaufenden und verdickten Blütenblattspitzen eine gelbgrüne, fleckenartige Färbung auf. Es sind sechs freie Staubblätter mit orangefarbenen Staubbeuteln vorhanden. Der Griffel ist keulenförmig. Die birnenförmige, fleischige, fachspaltige Kapselfrucht enthält schwarze, kugelige Samen. Die Chromos', metadata={'latinName': 'Leucojum vernum', 'source': 'https://de.wikipedia.org/wiki/Fr%C3%BChlingsknotenblume'}),\n",
       "  5.3137226),\n",
       " (Document(page_content='insgesamt zwölf Blütenhüllblätter vorhanden, von denen die vier äußeren (Sepalen) kelchblattartig und die acht (vier Sepalen und vier Kronblätter) inneren kronblattartig sind. Die Farben der Blütenhüllblätter reichen von gelb bis weiß oder bis zu rosafarben. Die kronblattartigen, inneren Blütenhüllblätter sind flach, sackartig oder nach außen zu einem Nektarbeutel oder Sporn verlängert. Der Sporn kann kürzer oder länger als die kelchblattartigen, äußeren Blütenhüll', metadata={'latinName': 'Epimedium alpinum', 'source': 'https://de.wikipedia.org/wiki/Elfenblumen'}),\n",
       "  5.4022975)]"
      ]
     },
     "execution_count": 30,
     "metadata": {},
     "output_type": "execute_result"
    }
   ],
   "source": [
    "question = 'Trockenliebende genügsame Pflanze mit gelben Blütenblättern'\n",
    "docs = db.similarity_search_with_score(question, k=10)\n",
    "\n",
    "docs"
   ]
  }
 ],
 "metadata": {
  "kernelspec": {
   "display_name": "Python 3 (ipykernel)",
   "language": "python",
   "name": "python3"
  },
  "language_info": {
   "codemirror_mode": {
    "name": "ipython",
    "version": 3
   },
   "file_extension": ".py",
   "mimetype": "text/x-python",
   "name": "python",
   "nbconvert_exporter": "python",
   "pygments_lexer": "ipython3",
   "version": "3.12.2"
  }
 },
 "nbformat": 4,
 "nbformat_minor": 5
}
