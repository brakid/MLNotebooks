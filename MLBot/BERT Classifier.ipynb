{
 "cells": [
  {
   "cell_type": "code",
   "execution_count": 1,
   "id": "e1bffe87",
   "metadata": {},
   "outputs": [
    {
     "name": "stderr",
     "output_type": "stream",
     "text": [
      "The cache for model files in Transformers v4.22.0 has been updated. Migrating your old cache. This is a one-time only operation. You can interrupt this and resume the migration later on by calling `transformers.utils.move_cache()`.\n"
     ]
    },
    {
     "name": "stdout",
     "output_type": "stream",
     "text": [
      "Moving 30 files to the new cache system\n"
     ]
    },
    {
     "data": {
      "application/vnd.jupyter.widget-view+json": {
       "model_id": "0de71c49f9f74684a1d5b5125b78cce1",
       "version_major": 2,
       "version_minor": 0
      },
      "text/plain": [
       "  0%|          | 0/30 [00:00<?, ?it/s]"
      ]
     },
     "metadata": {},
     "output_type": "display_data"
    }
   ],
   "source": [
    "from datasets import Dataset\n",
    "import pandas as pd\n",
    "from transformers import AutoTokenizer, AutoModel\n",
    "import torch\n",
    "from torch import nn\n",
    "from torch.optim import AdamW\n",
    "from torch.utils.data import DataLoader"
   ]
  },
  {
   "cell_type": "code",
   "execution_count": 3,
   "id": "46c9304e",
   "metadata": {},
   "outputs": [
    {
     "data": {
      "text/plain": [
       "Dataset({\n",
       "    features: ['label', 'text', 'labels'],\n",
       "    num_rows: 33\n",
       "})"
      ]
     },
     "execution_count": 3,
     "metadata": {},
     "output_type": "execute_result"
    }
   ],
   "source": [
    "LABELS = {\n",
    "    '__label__temperature': 0,\n",
    "    '__label__ethereum': 1,\n",
    "    '__label__help': 2\n",
    "}\n",
    "\n",
    "with open('./Telegrambot/utterances.txt', 'r') as data_file:\n",
    "    lines = data_file.readlines()\n",
    "    lines = [ [line.split(' ')[0], ' '.join(line.split(' ')[1:]).replace('\\n', '') ] for line in lines ]\n",
    "    data = pd.DataFrame(lines, columns=['label', 'text'])\n",
    "\n",
    "data['labels'] = data['label'].apply(lambda v: LABELS[v])\n",
    "    \n",
    "dataset = Dataset.from_pandas(data)\n",
    "\n",
    "dataset"
   ]
  },
  {
   "cell_type": "code",
   "execution_count": 4,
   "id": "bacf5a85",
   "metadata": {},
   "outputs": [
    {
     "data": {
      "application/vnd.jupyter.widget-view+json": {
       "model_id": "0153e4a713ea43deb63dc33f9afdaab5",
       "version_major": 2,
       "version_minor": 0
      },
      "text/plain": [
       "  0%|          | 0/1 [00:00<?, ?ba/s]"
      ]
     },
     "metadata": {},
     "output_type": "display_data"
    },
    {
     "data": {
      "text/plain": [
       "<torch.utils.data.dataloader.DataLoader at 0x11a0eac70>"
      ]
     },
     "execution_count": 4,
     "metadata": {},
     "output_type": "execute_result"
    }
   ],
   "source": [
    "tokenizer = AutoTokenizer.from_pretrained('distilbert-base-uncased')\n",
    "\n",
    "def tokenize(records):\n",
    "    return tokenizer(records['text'], padding='max_length', truncation=True)\n",
    "\n",
    "dataset = dataset.map(tokenize, batched=True)\n",
    "dataset = dataset.remove_columns(['text', 'label'])\n",
    "dataset.set_format('torch')\n",
    "\n",
    "dataloader = DataLoader(dataset, shuffle=True, batch_size=4)\n",
    "\n",
    "dataloader"
   ]
  },
  {
   "cell_type": "code",
   "execution_count": 5,
   "id": "5713b002",
   "metadata": {},
   "outputs": [
    {
     "name": "stderr",
     "output_type": "stream",
     "text": [
      "Some weights of the model checkpoint at distilbert-base-uncased were not used when initializing DistilBertModel: ['vocab_layer_norm.weight', 'vocab_transform.weight', 'vocab_projector.weight', 'vocab_projector.bias', 'vocab_transform.bias', 'vocab_layer_norm.bias']\n",
      "- This IS expected if you are initializing DistilBertModel from the checkpoint of a model trained on another task or with another architecture (e.g. initializing a BertForSequenceClassification model from a BertForPreTraining model).\n",
      "- This IS NOT expected if you are initializing DistilBertModel from the checkpoint of a model that you expect to be exactly identical (initializing a BertForSequenceClassification model from a BertForSequenceClassification model).\n"
     ]
    },
    {
     "data": {
      "text/plain": [
       "DistilBertModel(\n",
       "  (embeddings): Embeddings(\n",
       "    (word_embeddings): Embedding(30522, 768, padding_idx=0)\n",
       "    (position_embeddings): Embedding(512, 768)\n",
       "    (LayerNorm): LayerNorm((768,), eps=1e-12, elementwise_affine=True)\n",
       "    (dropout): Dropout(p=0.1, inplace=False)\n",
       "  )\n",
       "  (transformer): Transformer(\n",
       "    (layer): ModuleList(\n",
       "      (0): TransformerBlock(\n",
       "        (attention): MultiHeadSelfAttention(\n",
       "          (dropout): Dropout(p=0.1, inplace=False)\n",
       "          (q_lin): Linear(in_features=768, out_features=768, bias=True)\n",
       "          (k_lin): Linear(in_features=768, out_features=768, bias=True)\n",
       "          (v_lin): Linear(in_features=768, out_features=768, bias=True)\n",
       "          (out_lin): Linear(in_features=768, out_features=768, bias=True)\n",
       "        )\n",
       "        (sa_layer_norm): LayerNorm((768,), eps=1e-12, elementwise_affine=True)\n",
       "        (ffn): FFN(\n",
       "          (dropout): Dropout(p=0.1, inplace=False)\n",
       "          (lin1): Linear(in_features=768, out_features=3072, bias=True)\n",
       "          (lin2): Linear(in_features=3072, out_features=768, bias=True)\n",
       "          (activation): GELUActivation()\n",
       "        )\n",
       "        (output_layer_norm): LayerNorm((768,), eps=1e-12, elementwise_affine=True)\n",
       "      )\n",
       "      (1): TransformerBlock(\n",
       "        (attention): MultiHeadSelfAttention(\n",
       "          (dropout): Dropout(p=0.1, inplace=False)\n",
       "          (q_lin): Linear(in_features=768, out_features=768, bias=True)\n",
       "          (k_lin): Linear(in_features=768, out_features=768, bias=True)\n",
       "          (v_lin): Linear(in_features=768, out_features=768, bias=True)\n",
       "          (out_lin): Linear(in_features=768, out_features=768, bias=True)\n",
       "        )\n",
       "        (sa_layer_norm): LayerNorm((768,), eps=1e-12, elementwise_affine=True)\n",
       "        (ffn): FFN(\n",
       "          (dropout): Dropout(p=0.1, inplace=False)\n",
       "          (lin1): Linear(in_features=768, out_features=3072, bias=True)\n",
       "          (lin2): Linear(in_features=3072, out_features=768, bias=True)\n",
       "          (activation): GELUActivation()\n",
       "        )\n",
       "        (output_layer_norm): LayerNorm((768,), eps=1e-12, elementwise_affine=True)\n",
       "      )\n",
       "      (2): TransformerBlock(\n",
       "        (attention): MultiHeadSelfAttention(\n",
       "          (dropout): Dropout(p=0.1, inplace=False)\n",
       "          (q_lin): Linear(in_features=768, out_features=768, bias=True)\n",
       "          (k_lin): Linear(in_features=768, out_features=768, bias=True)\n",
       "          (v_lin): Linear(in_features=768, out_features=768, bias=True)\n",
       "          (out_lin): Linear(in_features=768, out_features=768, bias=True)\n",
       "        )\n",
       "        (sa_layer_norm): LayerNorm((768,), eps=1e-12, elementwise_affine=True)\n",
       "        (ffn): FFN(\n",
       "          (dropout): Dropout(p=0.1, inplace=False)\n",
       "          (lin1): Linear(in_features=768, out_features=3072, bias=True)\n",
       "          (lin2): Linear(in_features=3072, out_features=768, bias=True)\n",
       "          (activation): GELUActivation()\n",
       "        )\n",
       "        (output_layer_norm): LayerNorm((768,), eps=1e-12, elementwise_affine=True)\n",
       "      )\n",
       "      (3): TransformerBlock(\n",
       "        (attention): MultiHeadSelfAttention(\n",
       "          (dropout): Dropout(p=0.1, inplace=False)\n",
       "          (q_lin): Linear(in_features=768, out_features=768, bias=True)\n",
       "          (k_lin): Linear(in_features=768, out_features=768, bias=True)\n",
       "          (v_lin): Linear(in_features=768, out_features=768, bias=True)\n",
       "          (out_lin): Linear(in_features=768, out_features=768, bias=True)\n",
       "        )\n",
       "        (sa_layer_norm): LayerNorm((768,), eps=1e-12, elementwise_affine=True)\n",
       "        (ffn): FFN(\n",
       "          (dropout): Dropout(p=0.1, inplace=False)\n",
       "          (lin1): Linear(in_features=768, out_features=3072, bias=True)\n",
       "          (lin2): Linear(in_features=3072, out_features=768, bias=True)\n",
       "          (activation): GELUActivation()\n",
       "        )\n",
       "        (output_layer_norm): LayerNorm((768,), eps=1e-12, elementwise_affine=True)\n",
       "      )\n",
       "      (4): TransformerBlock(\n",
       "        (attention): MultiHeadSelfAttention(\n",
       "          (dropout): Dropout(p=0.1, inplace=False)\n",
       "          (q_lin): Linear(in_features=768, out_features=768, bias=True)\n",
       "          (k_lin): Linear(in_features=768, out_features=768, bias=True)\n",
       "          (v_lin): Linear(in_features=768, out_features=768, bias=True)\n",
       "          (out_lin): Linear(in_features=768, out_features=768, bias=True)\n",
       "        )\n",
       "        (sa_layer_norm): LayerNorm((768,), eps=1e-12, elementwise_affine=True)\n",
       "        (ffn): FFN(\n",
       "          (dropout): Dropout(p=0.1, inplace=False)\n",
       "          (lin1): Linear(in_features=768, out_features=3072, bias=True)\n",
       "          (lin2): Linear(in_features=3072, out_features=768, bias=True)\n",
       "          (activation): GELUActivation()\n",
       "        )\n",
       "        (output_layer_norm): LayerNorm((768,), eps=1e-12, elementwise_affine=True)\n",
       "      )\n",
       "      (5): TransformerBlock(\n",
       "        (attention): MultiHeadSelfAttention(\n",
       "          (dropout): Dropout(p=0.1, inplace=False)\n",
       "          (q_lin): Linear(in_features=768, out_features=768, bias=True)\n",
       "          (k_lin): Linear(in_features=768, out_features=768, bias=True)\n",
       "          (v_lin): Linear(in_features=768, out_features=768, bias=True)\n",
       "          (out_lin): Linear(in_features=768, out_features=768, bias=True)\n",
       "        )\n",
       "        (sa_layer_norm): LayerNorm((768,), eps=1e-12, elementwise_affine=True)\n",
       "        (ffn): FFN(\n",
       "          (dropout): Dropout(p=0.1, inplace=False)\n",
       "          (lin1): Linear(in_features=768, out_features=3072, bias=True)\n",
       "          (lin2): Linear(in_features=3072, out_features=768, bias=True)\n",
       "          (activation): GELUActivation()\n",
       "        )\n",
       "        (output_layer_norm): LayerNorm((768,), eps=1e-12, elementwise_affine=True)\n",
       "      )\n",
       "    )\n",
       "  )\n",
       ")"
      ]
     },
     "execution_count": 5,
     "metadata": {},
     "output_type": "execute_result"
    }
   ],
   "source": [
    "embedding_model = AutoModel.from_pretrained('distilbert-base-uncased')\n",
    "\n",
    "for parameter in embedding_model.parameters():\n",
    "    parameter.requires_grad = False\n",
    "    \n",
    "embedding_model.eval()\n",
    "\n",
    "def embed(input_ids, attention_mask, labels=None):\n",
    "    with torch.no_grad():\n",
    "        return embedding_model(input_ids=input_ids, attention_mask=attention_mask).last_hidden_state[:, 0, :]\n",
    "\n",
    "embedding_model"
   ]
  },
  {
   "cell_type": "code",
   "execution_count": 6,
   "id": "d3f77f95",
   "metadata": {},
   "outputs": [
    {
     "data": {
      "text/plain": [
       "Sequential(\n",
       "  (0): Linear(in_features=768, out_features=64, bias=True)\n",
       "  (1): LeakyReLU(negative_slope=0.01)\n",
       "  (2): Dropout(p=0.1, inplace=False)\n",
       "  (3): Linear(in_features=64, out_features=3, bias=True)\n",
       ")"
      ]
     },
     "execution_count": 6,
     "metadata": {},
     "output_type": "execute_result"
    }
   ],
   "source": [
    "classifier = nn.Sequential(\n",
    "    nn.Linear(768, 64),\n",
    "    nn.LeakyReLU(),\n",
    "    nn.Dropout(0.1),\n",
    "    nn.Linear(64, 3))\n",
    "\n",
    "classifier"
   ]
  },
  {
   "cell_type": "code",
   "execution_count": 7,
   "id": "9fd0594c",
   "metadata": {},
   "outputs": [
    {
     "name": "stdout",
     "output_type": "stream",
     "text": [
      "Epoch: 1/10, Batch: 0, Error: 1.0798757076263428\n",
      "Epoch: 1/10, Batch: 1, Error: 1.0646246671676636\n",
      "Epoch: 1/10, Batch: 2, Error: 1.0509616136550903\n",
      "Epoch: 1/10, Batch: 3, Error: 1.0036509037017822\n",
      "Epoch: 1/10, Batch: 4, Error: 1.051424264907837\n",
      "Epoch: 1/10, Batch: 5, Error: 1.3579702377319336\n",
      "Epoch: 1/10, Batch: 6, Error: 1.3963444232940674\n",
      "Epoch: 1/10, Batch: 7, Error: 1.2807953357696533\n",
      "Epoch: 1/10, Batch: 8, Error: 0.7543627023696899\n",
      "Epoch: 2/10, Batch: 0, Error: 1.0581711530685425\n",
      "Epoch: 2/10, Batch: 1, Error: 1.1236261129379272\n",
      "Epoch: 2/10, Batch: 2, Error: 1.1315765380859375\n",
      "Epoch: 2/10, Batch: 3, Error: 1.097712755203247\n",
      "Epoch: 2/10, Batch: 4, Error: 0.9792672991752625\n",
      "Epoch: 2/10, Batch: 5, Error: 1.0207762718200684\n",
      "Epoch: 2/10, Batch: 6, Error: 0.9534856677055359\n",
      "Epoch: 2/10, Batch: 7, Error: 0.9038772583007812\n",
      "Epoch: 2/10, Batch: 8, Error: 0.8015783429145813\n",
      "Epoch: 3/10, Batch: 0, Error: 1.0357482433319092\n",
      "Epoch: 3/10, Batch: 1, Error: 0.8562745451927185\n",
      "Epoch: 3/10, Batch: 2, Error: 0.9390929341316223\n",
      "Epoch: 3/10, Batch: 3, Error: 1.1272623538970947\n",
      "Epoch: 3/10, Batch: 4, Error: 0.9428565502166748\n",
      "Epoch: 3/10, Batch: 5, Error: 0.9801346659660339\n",
      "Epoch: 3/10, Batch: 6, Error: 0.8017006516456604\n",
      "Epoch: 3/10, Batch: 7, Error: 1.0875815153121948\n",
      "Epoch: 3/10, Batch: 8, Error: 1.30568265914917\n",
      "Epoch: 4/10, Batch: 0, Error: 0.7194265127182007\n",
      "Epoch: 4/10, Batch: 1, Error: 0.990641176700592\n",
      "Epoch: 4/10, Batch: 2, Error: 0.8731415867805481\n",
      "Epoch: 4/10, Batch: 3, Error: 0.7784534692764282\n",
      "Epoch: 4/10, Batch: 4, Error: 0.9994017481803894\n",
      "Epoch: 4/10, Batch: 5, Error: 0.7682758569717407\n",
      "Epoch: 4/10, Batch: 6, Error: 0.9861430525779724\n",
      "Epoch: 4/10, Batch: 7, Error: 1.060962200164795\n",
      "Epoch: 4/10, Batch: 8, Error: 1.002299427986145\n",
      "Epoch: 5/10, Batch: 0, Error: 0.6641882061958313\n",
      "Epoch: 5/10, Batch: 1, Error: 0.9822037220001221\n",
      "Epoch: 5/10, Batch: 2, Error: 0.7856915593147278\n",
      "Epoch: 5/10, Batch: 3, Error: 0.7662784457206726\n",
      "Epoch: 5/10, Batch: 4, Error: 0.9535824060440063\n",
      "Epoch: 5/10, Batch: 5, Error: 0.8569347858428955\n",
      "Epoch: 5/10, Batch: 6, Error: 0.7551929950714111\n",
      "Epoch: 5/10, Batch: 7, Error: 0.8451880216598511\n",
      "Epoch: 5/10, Batch: 8, Error: 0.6584488153457642\n",
      "Epoch: 6/10, Batch: 0, Error: 0.9451000690460205\n",
      "Epoch: 6/10, Batch: 1, Error: 0.7097131609916687\n",
      "Epoch: 6/10, Batch: 2, Error: 0.7450945973396301\n",
      "Epoch: 6/10, Batch: 3, Error: 0.7230395078659058\n",
      "Epoch: 6/10, Batch: 4, Error: 0.802603006362915\n",
      "Epoch: 6/10, Batch: 5, Error: 0.6111826300621033\n",
      "Epoch: 6/10, Batch: 6, Error: 0.626126766204834\n",
      "Epoch: 6/10, Batch: 7, Error: 0.524095892906189\n",
      "Epoch: 6/10, Batch: 8, Error: 0.8489350080490112\n",
      "Epoch: 7/10, Batch: 0, Error: 0.5533624887466431\n",
      "Epoch: 7/10, Batch: 1, Error: 0.5512047410011292\n",
      "Epoch: 7/10, Batch: 2, Error: 0.6941216588020325\n",
      "Epoch: 7/10, Batch: 3, Error: 0.6377004981040955\n",
      "Epoch: 7/10, Batch: 4, Error: 0.7425094842910767\n",
      "Epoch: 7/10, Batch: 5, Error: 0.6391072869300842\n",
      "Epoch: 7/10, Batch: 6, Error: 0.6860747933387756\n",
      "Epoch: 7/10, Batch: 7, Error: 0.7673366665840149\n",
      "Epoch: 7/10, Batch: 8, Error: 0.41280949115753174\n",
      "Epoch: 8/10, Batch: 0, Error: 0.4175276458263397\n",
      "Epoch: 8/10, Batch: 1, Error: 0.739005982875824\n",
      "Epoch: 8/10, Batch: 2, Error: 0.5628598928451538\n",
      "Epoch: 8/10, Batch: 3, Error: 0.6467810273170471\n",
      "Epoch: 8/10, Batch: 4, Error: 0.518844485282898\n",
      "Epoch: 8/10, Batch: 5, Error: 0.5589913129806519\n",
      "Epoch: 8/10, Batch: 6, Error: 0.5298264026641846\n",
      "Epoch: 8/10, Batch: 7, Error: 0.6715021729469299\n",
      "Epoch: 8/10, Batch: 8, Error: 0.4256976246833801\n",
      "Epoch: 9/10, Batch: 0, Error: 0.4877907633781433\n",
      "Epoch: 9/10, Batch: 1, Error: 0.5823267102241516\n",
      "Epoch: 9/10, Batch: 2, Error: 0.5878661274909973\n",
      "Epoch: 9/10, Batch: 3, Error: 0.5603618621826172\n",
      "Epoch: 9/10, Batch: 4, Error: 0.292432963848114\n",
      "Epoch: 9/10, Batch: 5, Error: 0.49255797266960144\n",
      "Epoch: 9/10, Batch: 6, Error: 0.5751027464866638\n",
      "Epoch: 9/10, Batch: 7, Error: 0.5550974607467651\n",
      "Epoch: 9/10, Batch: 8, Error: 0.25223198533058167\n",
      "Epoch: 10/10, Batch: 0, Error: 0.38257139921188354\n",
      "Epoch: 10/10, Batch: 1, Error: 0.4194064438343048\n",
      "Epoch: 10/10, Batch: 2, Error: 0.39582034945487976\n",
      "Epoch: 10/10, Batch: 3, Error: 0.21571680903434753\n",
      "Epoch: 10/10, Batch: 4, Error: 0.4473130702972412\n",
      "Epoch: 10/10, Batch: 5, Error: 0.4256495535373688\n",
      "Epoch: 10/10, Batch: 6, Error: 0.4228135049343109\n",
      "Epoch: 10/10, Batch: 7, Error: 0.7204740047454834\n",
      "Epoch: 10/10, Batch: 8, Error: 0.5446224212646484\n"
     ]
    },
    {
     "data": {
      "text/plain": [
       "Sequential(\n",
       "  (0): Linear(in_features=768, out_features=64, bias=True)\n",
       "  (1): LeakyReLU(negative_slope=0.01)\n",
       "  (2): Dropout(p=0.1, inplace=False)\n",
       "  (3): Linear(in_features=64, out_features=3, bias=True)\n",
       ")"
      ]
     },
     "execution_count": 7,
     "metadata": {},
     "output_type": "execute_result"
    }
   ],
   "source": [
    "optimizer = AdamW(classifier.parameters(), lr=0.001)\n",
    "\n",
    "loss = nn.CrossEntropyLoss()\n",
    "\n",
    "classifier.train()\n",
    "for epoch in range(10):\n",
    "    for i, batch in enumerate(dataloader):\n",
    "        labels = batch['labels']\n",
    "        embeddings = embed(**batch)\n",
    "        \n",
    "        classifier.zero_grad()\n",
    "        outputs = classifier(embeddings)\n",
    "        error = loss(outputs, labels)\n",
    "\n",
    "        error.backward()\n",
    "        optimizer.step()\n",
    "\n",
    "        print(f'Epoch: {epoch+1}/10, Batch: {i}, Error: {error.item()}')\n",
    "\n",
    "classifier.eval()"
   ]
  },
  {
   "cell_type": "code",
   "execution_count": 9,
   "id": "9c337fbf",
   "metadata": {},
   "outputs": [
    {
     "data": {
      "text/plain": [
       "(tensor([[0.3021, 0.5700, 0.1280]]), tensor(1))"
      ]
     },
     "execution_count": 9,
     "metadata": {},
     "output_type": "execute_result"
    }
   ],
   "source": [
    "with torch.no_grad():\n",
    "    tokens = tokenizer('can i buy silver', padding='max_length', truncation=True, return_tensors='pt')\n",
    "    embeddings = embed(**tokens)\n",
    "    classes = nn.functional.softmax(classifier(embeddings), dim=-1)\n",
    "classes, torch.argmax(classes)"
   ]
  },
  {
   "cell_type": "code",
   "execution_count": 10,
   "id": "c2063ea8",
   "metadata": {},
   "outputs": [],
   "source": [
    "torch.save(classifier, 'classifier.bin')"
   ]
  }
 ],
 "metadata": {
  "kernelspec": {
   "display_name": "Python 3",
   "language": "python",
   "name": "python3"
  },
  "language_info": {
   "codemirror_mode": {
    "name": "ipython",
    "version": 3
   },
   "file_extension": ".py",
   "mimetype": "text/x-python",
   "name": "python",
   "nbconvert_exporter": "python",
   "pygments_lexer": "ipython3",
   "version": "3.9.13"
  }
 },
 "nbformat": 4,
 "nbformat_minor": 5
}
