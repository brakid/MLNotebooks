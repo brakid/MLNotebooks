{
 "cells": [
  {
   "cell_type": "code",
   "execution_count": 1,
   "id": "1adb6ff7-5100-4893-ba22-f9eccd070423",
   "metadata": {},
   "outputs": [],
   "source": [
    "from mlx_vlm import load, generate\n",
    "from mlx_vlm.prompt_utils import apply_chat_template\n",
    "from mlx_vlm.utils import load_config\n",
    "from mlx_vlm.utils import load_image\n",
    "import matplotlib.pyplot as plt"
   ]
  },
  {
   "cell_type": "code",
   "execution_count": 2,
   "id": "46ef14ba-dca3-43c8-9b27-ded21b816b90",
   "metadata": {},
   "outputs": [
    {
     "data": {
      "application/vnd.jupyter.widget-view+json": {
       "model_id": "02de6bcbed684a6cbc7b23502afa9a4b",
       "version_major": 2,
       "version_minor": 0
      },
      "text/plain": [
       "Fetching 11 files:   0%|          | 0/11 [00:00<?, ?it/s]"
      ]
     },
     "metadata": {},
     "output_type": "display_data"
    },
    {
     "name": "stderr",
     "output_type": "stream",
     "text": [
      "Using a slow image processor as `use_fast` is unset and a slow processor was saved with this model. `use_fast=True` will be the default behavior in v4.52, even if the model was saved with a slow processor. This will result in minor differences in outputs. You'll still be able to use a slow processor with `use_fast=False`.\n"
     ]
    },
    {
     "data": {
      "application/vnd.jupyter.widget-view+json": {
       "model_id": "5c4fa56485e84d4b9b2c826ba71a9244",
       "version_major": 2,
       "version_minor": 0
      },
      "text/plain": [
       "Fetching 11 files:   0%|          | 0/11 [00:00<?, ?it/s]"
      ]
     },
     "metadata": {},
     "output_type": "display_data"
    }
   ],
   "source": [
    "model_path = 'mlx-community/Qwen2.5-VL-3B-Instruct-4bit'\n",
    "model, processor = load(model_path)\n",
    "config = load_config(model_path)"
   ]
  },
  {
   "cell_type": "code",
   "execution_count": 3,
   "id": "7ca5e4f4-53ae-4739-ae93-79e5c2f38969",
   "metadata": {},
   "outputs": [
    {
     "data": {
      "image/png": "[encoded data removed]",
      "text/plain": [
       "<Figure size 640x480 with 1 Axes>"
      ]
     },
     "metadata": {},
     "output_type": "display_data"
    }
   ],
   "source": [
    "im = load_image('lunar.png')\n",
    "width, height = im.size\n",
    "if width > 640:\n",
    "    newsize = (640, int(640 / width * height))\n",
    "    im = im.resize(newsize)\n",
    "plt.imshow(im)\n",
    "plt.show()"
   ]
  },
  {
   "cell_type": "code",
   "execution_count": 4,
   "id": "158201e2-bd51-463a-8642-020def2b74a4",
   "metadata": {},
   "outputs": [],
   "source": [
    "messages = [\n",
    "    {\"role\": \"system\", \"content\": \"\"\"\n",
    "You are an AI agent designed to play the game Lunar Lander. In this game, you control a lunar module and must safely land it on a designated landing pad on the moon's surface.\n",
    "\n",
    "## Game Overview\n",
    "\n",
    "In Lunar Lander, you pilot a lunar module that starts at the top of the screen with initial downward velocity. Your goal is to navigate the module to land safely on a flat landing pad on the moon's surface. The game is affected by gravity, which constantly pulls the lander downward, making control challenging.\n",
    "\n",
    "## Game Mechanics\n",
    "\n",
    "1. **Physics**: The lunar module is affected by:\n",
    "   - Gravity (constant downward pull)\n",
    "   - Momentum (the module will continue moving in a direction until counteracted)\n",
    "   - Tilt (indicates the direction of the module's movement)\n",
    "\n",
    "2. **Visual Elements in Game State**:\n",
    "   - **Lunar Module**: The spacecraft you control (appears as a purple/lavender craft)\n",
    "     - Pay close attention to the module's tilt: it leans in the direction it is drifting\n",
    "   - **Landing Pad**: A flat horizontal surface marked with yellow flags\n",
    "   - **Terrain**: Irregular lunar surface (white/gray against black background)\n",
    "   - **Red Dots**: Indicators of previous thrust actions - these show where and in what direction thrusters were fired\n",
    "\n",
    "## Available Actions\n",
    "\n",
    "You have exactly four possible actions to control the lunar module:\n",
    "\n",
    "1. **burst_left**: Fires thrusters to push the module to the right (counteracts leftward movement)\n",
    "2. **burst_right**: Fires thrusters to push the module to the left (counteracts rightward movement)\n",
    "3. **burst_down**: Fires the main engine to generate upward thrust (counteracts falling)\n",
    "4. **wait**: Do nothing for one time step (conserves fuel but allows gravity to act)\n",
    "\n",
    "## Victory Conditions\n",
    "\n",
    "You successfully land the lunar module when:\n",
    "1. The module makes contact with the landing pad (the flat area marked with yellow flags)\n",
    "2. The module's descent is sufficiently slow (as inferred from recent thrust actions)\n",
    "3. The module is in an upright position (not tilted too much)\n",
    "\n",
    "## Failure Conditions\n",
    "\n",
    "You fail to land the lunar module when:\n",
    "1. The module crashes into terrain at high speed\n",
    "2. The module lands at too high a velocity (crash landing)\n",
    "3. The module lands at too steep an angle (tips over)\n",
    "4. The module flies off the edges of the screen\n",
    "\n",
    "## How to Play\n",
    "\n",
    "1. For each turn, you will receive an image of the current game state.\n",
    "2. Analyze the position and orientation of the lunar module:\n",
    "   - Look at the module's position relative to the landing pad\n",
    "   - Check the module's tilt to determine drift direction (this is your only indicator of momentum)\n",
    "   - Note any red dots indicating recent thrust actions\n",
    "3. Consider the terrain, especially the location of the landing pad.\n",
    "4. Choose ONE of the four available actions: \"burst_left\", \"burst_right\", \"burst_down\", or \"wait\".\n",
    "5. Your response should only be the chosen action, nothing else.\n",
    "\n",
    "Note: Remember that the thrust directions are counterintuitive - \"burst left\" actually pushes the lander to the RIGHT, and \"burst right\" pushes it to the LEFT.\n",
    "\n",
    "## Strategy Tips\n",
    "\n",
    "- The lander's tilt indicates its drift direction - if it's leaning left, it's moving left\n",
    "- When the lander is tilting in one direction, apply thrust in the opposite direction:\n",
    "  - If leaning left (as in the example image), use \"burst_left\" to push it right\n",
    "  - If leaning right, use \"burst_right\" to push it left\n",
    "- Use \"burst_down\" to slow your descent when approaching the landing pad\n",
    "- Use \"wait\" when your trajectory looks good\n",
    "- Try to achieve a balanced approach to the landing pad with minimal horizontal speed\n",
    "- Start counteracting gravity early - don't wait until you're about to crash\n",
    "- Try to correct any tilt early so the lander is upright when touching down\n",
    "\n",
    "## Response Format\n",
    "\n",
    "Respond with exactly one of these four actions per turn:\n",
    "- burst_left\n",
    "- burst_right\n",
    "- burst_down\n",
    "- wait\n",
    "\n",
    "Format the response as a JSON:\n",
    "```\n",
    "{\n",
    "  \"action\": \"burst_left\"|\"burst_right\"|\"burst_down\"|\"wait\"\n",
    "}\n",
    "```\n",
    "\n",
    "Do not include explanations or additional text in your responses.\n",
    "    \"\"\"},\n",
    "    {\"role\": \"user\", \"content\": \"Which action to take?\"}\n",
    "]\n",
    "prompt = apply_chat_template(processor, config, messages)"
   ]
  },
  {
   "cell_type": "code",
   "execution_count": 5,
   "id": "36bcbb3a-4294-4e0e-b47d-64923108e9dc",
   "metadata": {},
   "outputs": [
    {
     "name": "stdout",
     "output_type": "stream",
     "text": [
      "{\n",
      "  \"action\": \"burst_left\"\n",
      "}\n"
     ]
    }
   ],
   "source": [
    "output = generate(\n",
    "    model,\n",
    "    processor,\n",
    "    prompt,\n",
    "    im,\n",
    "    max_tokens=10\n",
    ")\n",
    "print(output)"
   ]
  }
 ],
 "metadata": {
  "kernelspec": {
   "display_name": "Python 3 (ipykernel)",
   "language": "python",
   "name": "python3"
  },
  "language_info": {
   "codemirror_mode": {
    "name": "ipython",
    "version": 3
   },
   "file_extension": ".py",
   "mimetype": "text/x-python",
   "name": "python",
   "nbconvert_exporter": "python",
   "pygments_lexer": "ipython3",
   "version": "3.12.10"
  }
 },
 "nbformat": 4,
 "nbformat_minor": 5
}
