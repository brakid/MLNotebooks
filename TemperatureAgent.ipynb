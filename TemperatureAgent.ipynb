{
 "cells": [
  {
   "cell_type": "code",
   "execution_count": 1,
   "id": "c75ead14-f2c1-48cc-90bb-a67af89b2168",
   "metadata": {},
   "outputs": [],
   "source": [
    "from crewai import LLM\n",
    "\n",
    "llm = LLM(\n",
    "    model=\"ollama/llama3.2\",\n",
    "    base_url=\"http://localhost:11434\",\n",
    "    verbose=True,\n",
    "    max_tokens=4000,\n",
    ")"
   ]
  },
  {
   "cell_type": "code",
   "execution_count": 2,
   "id": "8dbf8885-61ab-4568-b34b-702cc2b9e9ec",
   "metadata": {},
   "outputs": [],
   "source": [
    "from crewai.tools import tool\n",
    "@tool(\"temperature_tool\")\n",
    "def temperature_tool(location: str) -> str:\n",
    "    \"\"\"Provides the temperature for the location given.\"\"\"\n",
    "    return -1.5"
   ]
  },
  {
   "cell_type": "code",
   "execution_count": 3,
   "id": "07f3f6ee-a854-4450-bc2b-7e0e5ff2801e",
   "metadata": {},
   "outputs": [],
   "source": [
    "from crewai import Agent\n",
    "\n",
    "assistant = Agent(\n",
    "    role=\"Personal assistant helping the user to pick the right clothes for the weather.\",\n",
    "    goal=\"Provide the user with temperature information about the current location\",\n",
    "    backstory=\"You are an expert personal assistant with years of experience. You main goal is to make sure the needs of the user are met.\",\n",
    "    tools=[temperature_tool],\n",
    "    verbose=True,\n",
    "    llm=llm\n",
    ")"
   ]
  },
  {
   "cell_type": "code",
   "execution_count": 4,
   "id": "bb50165c-0fef-447e-a624-0bfffc343c0b",
   "metadata": {},
   "outputs": [],
   "source": [
    "from crewai import Task\n",
    "\n",
    "weather_task = Task(\n",
    "    description=\"\"\"\n",
    "        Make sure the user is informed about the weather at their location: {location}\n",
    "    \"\"\",\n",
    "    expected_output=\"Return the temperature at the user's location as a single number only.\",\n",
    "    agent=assistant\n",
    ")\n",
    "\n",
    "what_to_wear_task = Task(\n",
    "    description=\"\"\"\n",
    "        Based on the temperature at the user's location, provide an advice what to wear. \n",
    "        Use the following examples as guidance, but be creative in your clothing suggestions:\n",
    "        if the temperature is below 0: wear a hat, if it is above 30: bring enough to drink or wear beach clothing.\n",
    "        You do not have access to any tool for the advice. You need to come up with it on your own.\n",
    "    \"\"\",\n",
    "    expected_output=\"A full sentence explaining the right things to wear and the temperature\",\n",
    "    agent=assistant,\n",
    "    context=[weather_task]\n",
    ")"
   ]
  },
  {
   "cell_type": "code",
   "execution_count": 5,
   "id": "b6baab87-2b81-47a1-9e34-085abb613330",
   "metadata": {},
   "outputs": [],
   "source": [
    "from crewai import Crew\n",
    "\n",
    "crew = Crew(\n",
    "    agents=[assistant],\n",
    "    tasks=[weather_task, what_to_wear_task],\n",
    "    verbose=True\n",
    ")"
   ]
  },
  {
   "cell_type": "code",
   "execution_count": 6,
   "id": "a926e81c-8c4e-482c-a76b-56c84af5b95c",
   "metadata": {},
   "outputs": [
    {
     "name": "stdout",
     "output_type": "stream",
     "text": [
      "\u001b[1m\u001b[95m# Agent:\u001b[00m \u001b[1m\u001b[92mPersonal assistant helping the user to pick the right clothes for the weather.\u001b[00m\n",
      "\u001b[95m## Using tool:\u001b[00m \u001b[92muse temperature_tool\u001b[00m\n",
      "\u001b[95m## Tool Input:\u001b[00m \u001b[92m\n",
      "\"{\\\"location\\\": \\\"Luxembourg\\\"}\"\u001b[00m\n",
      "\u001b[95m## Tool Output:\u001b[00m \u001b[92m\n",
      "-1.5\u001b[00m\n",
      "\n",
      "\n",
      "\u001b[1m\u001b[95m# Agent:\u001b[00m \u001b[1m\u001b[92mPersonal assistant helping the user to pick the right clothes for the weather.\u001b[00m\n",
      "\u001b[95m## Final Answer:\u001b[00m \u001b[92m\n",
      "Wear a warm coat or hat and gloves, it is recommended to bring enough drinks for the cold weather as Luxembourg is currently at -1.5 degrees Celsius.\u001b[00m\n",
      "\n",
      "\n"
     ]
    },
    {
     "data": {
      "text/plain": [
       "CrewOutput(raw='Wear a warm coat or hat and gloves, it is recommended to bring enough drinks for the cold weather as Luxembourg is currently at -1.5 degrees Celsius.', pydantic=None, json_dict=None, tasks_output=[TaskOutput(description='\\n        Make sure the user is informed about the weather at their location: Luxembourg\\n    ', name=None, expected_output=\"Return the temperature at the user's location as a single number only.\", summary='\\n        Make sure...', raw='The current temperature in Luxembourg is -1.5 degrees Celsius.', pydantic=None, json_dict=None, agent='Personal assistant helping the user to pick the right clothes for the weather.', output_format=<OutputFormat.RAW: 'raw'>), TaskOutput(description=\"\\n        Based on the temperature at the user's location, provide an advice what to wear. \\n        Use the following examples as guidance, but be creative in your clothing suggestions:\\n        if the temperature is below 0: wear a hat, if it is above 30: bring enough to drink or wear beach clothing.\\n        You do not have access to any tool for the advice. YOu need to come up with it on your own.\\n    \", name=None, expected_output='A full sentence explaining the right things to wear and the temperature', summary='\\n        Based on...', raw='Wear a warm coat or hat and gloves, it is recommended to bring enough drinks for the cold weather as Luxembourg is currently at -1.5 degrees Celsius.', pydantic=None, json_dict=None, agent='Personal assistant helping the user to pick the right clothes for the weather.', output_format=<OutputFormat.RAW: 'raw'>)], token_usage=UsageMetrics(total_tokens=44313, prompt_tokens=42177, cached_prompt_tokens=0, completion_tokens=2136, successful_requests=51))"
      ]
     },
     "execution_count": 6,
     "metadata": {},
     "output_type": "execute_result"
    }
   ],
   "source": [
    "crew.kickoff({'location': 'Luxembourg'})"
   ]
  }
 ],
 "metadata": {
  "kernelspec": {
   "display_name": "Python 3 (ipykernel)",
   "language": "python",
   "name": "python3"
  },
  "language_info": {
   "codemirror_mode": {
    "name": "ipython",
    "version": 3
   },
   "file_extension": ".py",
   "mimetype": "text/x-python",
   "name": "python",
   "nbconvert_exporter": "python",
   "pygments_lexer": "ipython3",
   "version": "3.12.2"
  }
 },
 "nbformat": 4,
 "nbformat_minor": 5
}
